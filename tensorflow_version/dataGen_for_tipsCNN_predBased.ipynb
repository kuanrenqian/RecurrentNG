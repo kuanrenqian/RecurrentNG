{
 "cells": [
  {
   "cell_type": "code",
   "execution_count": 9,
   "metadata": {},
   "outputs": [
    {
     "name": "stderr",
     "output_type": "stream",
     "text": [
      "2022-07-28 19:24:08.972680: I tensorflow/stream_executor/cuda/cuda_gpu_executor.cc:975] successful NUMA node read from SysFS had negative value (-1), but there must be at least one NUMA node, so returning NUMA node zero\n",
      "2022-07-28 19:24:08.972861: I tensorflow/stream_executor/cuda/cuda_gpu_executor.cc:975] successful NUMA node read from SysFS had negative value (-1), but there must be at least one NUMA node, so returning NUMA node zero\n",
      "2022-07-28 19:24:08.972966: I tensorflow/stream_executor/cuda/cuda_gpu_executor.cc:975] successful NUMA node read from SysFS had negative value (-1), but there must be at least one NUMA node, so returning NUMA node zero\n",
      "2022-07-28 19:24:08.973130: I tensorflow/stream_executor/cuda/cuda_gpu_executor.cc:975] successful NUMA node read from SysFS had negative value (-1), but there must be at least one NUMA node, so returning NUMA node zero\n",
      "2022-07-28 19:24:08.973239: I tensorflow/stream_executor/cuda/cuda_gpu_executor.cc:975] successful NUMA node read from SysFS had negative value (-1), but there must be at least one NUMA node, so returning NUMA node zero\n",
      "2022-07-28 19:24:08.973321: I tensorflow/core/common_runtime/gpu/gpu_device.cc:1532] Created device /device:GPU:0 with 5705 MB memory:  -> device: 0, name: NVIDIA GeForce RTX 3070, pci bus id: 0000:2b:00.0, compute capability: 8.6\n"
     ]
    },
    {
     "data": {
      "text/plain": [
       "[name: \"/device:CPU:0\"\n",
       " device_type: \"CPU\"\n",
       " memory_limit: 268435456\n",
       " locality {\n",
       " }\n",
       " incarnation: 11934605537612211088\n",
       " xla_global_id: -1,\n",
       " name: \"/device:GPU:0\"\n",
       " device_type: \"GPU\"\n",
       " memory_limit: 5982715904\n",
       " locality {\n",
       "   bus_id: 1\n",
       "   links {\n",
       "   }\n",
       " }\n",
       " incarnation: 8260394932926746852\n",
       " physical_device_desc: \"device: 0, name: NVIDIA GeForce RTX 3070, pci bus id: 0000:2b:00.0, compute capability: 8.6\"\n",
       " xla_global_id: 416903419]"
      ]
     },
     "execution_count": 9,
     "metadata": {},
     "output_type": "execute_result"
    }
   ],
   "source": [
    "import numpy as np\n",
    "import matplotlib.pyplot as plt\n",
    "\n",
    "import tensorflow as tf\n",
    "from tensorflow import keras\n",
    "from tensorflow.python.client import device_lib\n",
    "device_lib.list_local_devices()"
   ]
  },
  {
   "cell_type": "code",
   "execution_count": 10,
   "metadata": {},
   "outputs": [
    {
     "data": {
      "text/plain": [
       "(91, 69, 100, 100, 5)"
      ]
     },
     "execution_count": 10,
     "metadata": {},
     "output_type": "execute_result"
    }
   ],
   "source": [
    "# import sys\n",
    "# log_path = 'log.txt'\n",
    "# sys.stdout = open(log_path, \"w\")\n",
    "\n",
    "import h5py\n",
    "# load dataset\n",
    "h5 = h5py.File('./data/NG_07152022.hdf5', mode='r')\n",
    "dataset = h5.get('phi')\n",
    "dataset.shape"
   ]
  },
  {
   "cell_type": "code",
   "execution_count": 11,
   "metadata": {},
   "outputs": [
    {
     "name": "stdout",
     "output_type": "stream",
     "text": [
      "Dataset shape is: (91, 69, 100, 100, 5)\n",
      "Splitted trainning dataset shape is: (68, 69, 100, 100, 5)\n",
      "Splitted trainning dataset shape is: (23, 69, 100, 100, 5)\n"
     ]
    }
   ],
   "source": [
    "# shuffle dataset\n",
    "data_sz = dataset.shape[0]\n",
    "indexes = np.arange(data_sz)\n",
    "np.random.shuffle(indexes)\n",
    "train_index = np.sort(indexes[: int(0.75 * data_sz)])\n",
    "val_index = np.sort(indexes[int(0.75 * data_sz) :])\n",
    "\n",
    "# check dataset size\n",
    "print(f'Dataset shape is: {dataset.shape}')\n",
    "train_dataset = np.take(dataset,train_index,axis=0)\n",
    "val_dataset = np.take(dataset,val_index,axis=0)\n",
    "print(f'Splitted trainning dataset shape is: {train_dataset.shape}')\n",
    "print(f'Splitted trainning dataset shape is: {val_dataset.shape}')"
   ]
  },
  {
   "cell_type": "code",
   "execution_count": 12,
   "metadata": {},
   "outputs": [
    {
     "name": "stderr",
     "output_type": "stream",
     "text": [
      "Running ...: 100%|██████████| 68/68 [00:02<00:00, 30.03it/s]\n",
      "Running ...: 100%|██████████| 23/23 [00:00<00:00, 28.45it/s]\n"
     ]
    },
    {
     "name": "stdout",
     "output_type": "stream",
     "text": [
      "Training Dataset Shapes: (4352, 5, 100, 100, 5), (4352, 2, 100, 100, 5)\n",
      "Validation Dataset Shapes: (1472, 5, 100, 100, 5), (1472, 2, 100, 100, 5)\n"
     ]
    }
   ],
   "source": [
    "from tqdm import tqdm\n",
    "\n",
    "def create_shifted_frames_many2one(dataset,numFrames):\n",
    "    sz = dataset.shape[0]*(dataset.shape[1]-numFrames)\n",
    "    x = np.zeros([sz, numFrames, 100, 100, 5])\n",
    "    y = np.zeros([sz, 2, 100, 100, 5])\n",
    "    z = np.zeros([sz, 1, 100, 100, 1])\n",
    "    k = 0\n",
    "    for i in tqdm(range(dataset.shape[0]), desc=\"Running ...\"):\n",
    "        for j in range(dataset.shape[1]-numFrames):\n",
    "            iter = (j+1)*500+2500\n",
    "            if (iter<10500) or (iter>28500):\n",
    "                iter_mat = np.ones([dataset.shape[2],dataset.shape[3]])\n",
    "            else:\n",
    "                iter_mat = np.zeros([dataset.shape[2],dataset.shape[3]])\n",
    "            currentFrame = np.expand_dims(np.expand_dims(dataset[i,j+numFrames,...],axis=0),axis=0)\n",
    "            pastFrames = np.expand_dims(dataset[i,j:(j+numFrames),...],axis=0)\n",
    "            x[k,...] = pastFrames\n",
    "            y[k,0,...] = currentFrame\n",
    "            y[k,1,...] = pastFrames[:,-1,...] # passing past frame to ground truth for use in loss function (an issue with directly passing inp into loss func)\n",
    "            z[k,...] = np.expand_dims(np.expand_dims(iter_mat,axis=0),axis=3)\n",
    "            k+=1  \n",
    "    return x,y,z\n",
    "\n",
    "# creatign many to 1 shifted trainning and validation dataset\n",
    "numFrames = 5\n",
    "x_train, y_train, iter_train = create_shifted_frames_many2one(train_dataset,numFrames)\n",
    "x_val, y_val, iter_val = create_shifted_frames_many2one(val_dataset,numFrames)\n",
    "\n",
    "# increase tubulin magnitude (actual value too small)\n",
    "x_train[...,2] = x_train[...,2]*10\n",
    "y_train[...,2] = y_train[...,2]*10\n",
    "x_val[...,2] = x_val[...,2]*10\n",
    "y_val[...,2] = y_val[...,2]*10\n",
    "\n",
    "print(\"Training Dataset Shapes: \" + str(x_train.shape) + \", \" + str(y_train.shape))\n",
    "print(\"Validation Dataset Shapes: \" + str(x_val.shape) + \", \" + str(y_val.shape))"
   ]
  },
  {
   "cell_type": "code",
   "execution_count": 13,
   "metadata": {},
   "outputs": [],
   "source": [
    "# function to calculate partial derivatives of the input\n",
    "def get_deriv(input):\n",
    "    N1N_input, NN1_input = tf.image.image_gradients(input)\n",
    "    N2N_input, _ = tf.image.image_gradients(N1N_input)\n",
    "    _, NN2_input = tf.image.image_gradients(NN1_input)\n",
    "    LAP_input = tf.math.add(N2N_input,NN2_input)\n",
    "    return N1N_input, NN1_input, N2N_input, NN2_input, LAP_input\n",
    "\n",
    "# calculate MSE\n",
    "def get_MSE_tf(input,goal):\n",
    "    return tf.math.reduce_mean(tf.square(tf.math.subtract(input, goal)))\n",
    "\n",
    "def get_MRE_tf(input,goal):\n",
    "    return tf.math.sqrt(tf.reduce_sum(tf.math.square(input-goal)/(input.shape[0]*input.shape[1])))\n",
    "    \n",
    "# PINN - physics-informed loss function for Phase-field neuron growth model\n",
    "def PINN_loss():\n",
    "    def loss(y_true, y_pred):\n",
    "        dt = 0.01*500 # current data sampled per 500 iter (change based on dataset)\n",
    "        \n",
    "        # extract variables from ground truth\n",
    "        true_phi = tf.cast(tf.expand_dims(tf.expand_dims(y_true[0,0,:,:,0],axis=0),axis=3), dtype=tf.float64)\n",
    "        true_tips = tf.cast(tf.expand_dims(tf.expand_dims(y_true[0,0,:,:,1],axis=0),axis=3), dtype=tf.float64)\n",
    "        true_tub = tf.cast(tf.expand_dims(tf.expand_dims(y_true[0,0,:,:,2],axis=0),axis=3), dtype=tf.float64)\n",
    "        true_tempr = tf.cast(tf.expand_dims(tf.expand_dims(y_true[0,0,:,:,3],axis=0),axis=3), dtype=tf.float64)\n",
    "        theta = tf.cast(tf.expand_dims(tf.expand_dims(y_true[0,0,:,:,4],axis=0),axis=3), dtype=tf.float64) # Since theta is passed, theta remains the same\n",
    "        # extract variables from previous iteration (intentionally placed in ground truth so it is easier to access)\n",
    "        NN_p = tf.cast(tf.expand_dims(tf.expand_dims(y_true[0,1,:,:,0],axis=0),axis=3), dtype=tf.float64)\n",
    "        tub_p = tf.cast(tf.expand_dims(tf.expand_dims(y_true[0,1,:,:,2],axis=0),axis=3), dtype=tf.float64)\n",
    "        tempr_p = tf.cast(tf.expand_dims(tf.expand_dims(y_true[0,1,:,:,3],axis=0),axis=3), dtype=tf.float64)\n",
    "        # extract variables from prediction\n",
    "        NN_pK = tf.cast(tf.expand_dims(tf.expand_dims(y_pred[0,-1,:,:,0],axis=0),axis=3), dtype=tf.float64)\n",
    "        tips_pK = tf.cast(tf.expand_dims(tf.expand_dims(y_pred[0,-1,:,:,1],axis=0),axis=3), dtype=tf.float64)\n",
    "        tub_pK = tf.cast(tf.expand_dims(tf.expand_dims(y_pred[0,-1,:,:,2],axis=0),axis=3), dtype=tf.float64)\n",
    "        tempr_pK = tf.cast(tf.expand_dims(tf.expand_dims(y_pred[0,-1,:,:,3],axis=0),axis=3), dtype=tf.float64)\n",
    "\n",
    "        # calc corresponding partial derivatives\n",
    "        N1N_p, NN1_p, _, _, LAP_p = get_deriv(NN_p)\n",
    "        N1N_theta, NN1_theta, _, _, _ = get_deriv(theta)\n",
    "        _, _, _, _, LAP_tp = get_deriv(tempr_p)\n",
    "        N1N_tb, NN1_tb, _, _, LAP_tb = get_deriv(tub_p)\n",
    "\n",
    "        # Temperature residual\n",
    "        tempr_residual = (3*LAP_tp+4*(NN_pK - NN_p)/dt)*dt + tempr_p - tempr_pK\n",
    "\n",
    "        # Tubulin residual\n",
    "        diff_tb = 4*(tf.math.multiply(N1N_p,N1N_tb) + tf.math.multiply(NN1_p,NN1_tb) + tf.math.multiply(NN_p,LAP_tb))\n",
    "        alph_tb = 0.001*(tf.math.multiply(N1N_p,tub_p) + tf.math.multiply(NN_p,N1N_tb) + tf.math.multiply(NN1_p,tub_p) + tf.math.multiply(NN_p,NN1_tb))\n",
    "        beta_tb = 0.001*tf.math.multiply(NN_p,tub_p)\n",
    "        src_tb = tf.math.divide_no_nan(15*tf.math.square(LAP_p),tf.math.reduce_sum(tf.math.square(LAP_p)))\n",
    "        tub_residual = (diff_tb - alph_tb - beta_tb + src_tb)*dt + tub_p - tub_pK\n",
    "\n",
    "        # phase field residual\n",
    "        e = 0.2865*tf.math.atan(10*tf.math.multiply(tf.math.multiply(tips_pK,5*tub_pK-0.1),1-tempr_pK)) # energy equation\n",
    "        atheta = tf.math.atan2(NN1_p,N1N_p)\n",
    "        a = 0.04*(1.0+0.1*tf.math.cos(6*(atheta-theta)))\n",
    "        ap = -0.04*(6*0.1*tf.math.sin(6*(atheta-theta)))\n",
    "        aap = tf.math.multiply(a,ap)\n",
    "        a2 = tf.math.square(a)\n",
    "        a2Lap = tf.math.multiply(a2,LAP_p)\n",
    "        N1N_aapNN1p, _ = tf.image.image_gradients(tf.math.multiply(aap,NN1_p))\n",
    "        _, NN1_aapN1Np = tf.image.image_gradients(tf.math.multiply(aap,N1N_p))\n",
    "        mag_theta = tf.math.sqrt(tf.math.square(N1N_theta) + tf.math.square(NN1_theta))\n",
    "        dblwll_term = tf.math.multiply(tf.math.multiply(NN_p,1-NN_p),NN_p - 0.5 + e + 6*0.007*mag_theta)\n",
    "        phi_residual = a2Lap - N1N_aapNN1p + NN1_aapN1Np + dblwll_term - (NN_pK - NN_p) / dt\n",
    "\n",
    "        # calculate mean of each residual and mse of prediction and ground truth\n",
    "        residual_mse = tf.math.reduce_mean(phi_residual) + tf.math.reduce_mean(tempr_residual) + tf.math.reduce_mean(tub_residual)\n",
    "        diff_mse = get_MSE_tf(NN_pK,true_phi) + get_MSE_tf(tempr_pK,true_tempr) + get_MRE_tf(tub_pK,true_tub)\n",
    "        loss = tf.math.abs(residual_mse) + tf.math.abs(diff_mse)\n",
    "        \n",
    "        return loss\n",
    "    return loss"
   ]
  },
  {
   "cell_type": "code",
   "execution_count": 14,
   "metadata": {},
   "outputs": [
    {
     "name": "stderr",
     "output_type": "stream",
     "text": [
      "Generating phi prediction from x_train ...: 100%|██████████| 4352/4352 [02:16<00:00, 31.98it/s]\n"
     ]
    },
    {
     "name": "stdout",
     "output_type": "stream",
     "text": [
      "Training Dataset Shapes: (4352, 100, 100, 3), Target Tips Shape:(4352, 100, 100, 1), Target Phi Shapes:(4352, 100, 100, 1)\n"
     ]
    }
   ],
   "source": [
    "import copy\n",
    "# start matlab engine, requires valid installation of matlab and matlab.engine library\n",
    "import matlab.engine\n",
    "eng = matlab.engine.start_matlab()\n",
    "s = eng.genpath('Matlab_algorithm/prev')\n",
    "eng.addpath(s, nargout=0)\n",
    "\n",
    "# calc mre between pred and goal\n",
    "def get_mre(pred,goal):\n",
    "    return np.sqrt(np.sum(np.square(pred-goal)/(pred.shape[0]*pred.shape[1])))\n",
    "\n",
    "def push(input, cutoff):\n",
    "    max_input = np.amax(input)\n",
    "    output = copy.copy(input)\n",
    "    output[input>cutoff*max_input] = 1\n",
    "    output[input<=cutoff*max_input] = 0\n",
    "    return output\n",
    "\n",
    "model = keras.models.load_model('./saved_model/model_conv_lstm_test_27', custom_objects={'loss': PINN_loss()})\n",
    "\n",
    "x_train_pred_phi = np.zeros([x_train.shape[0],x_train.shape[2],x_train.shape[3],3])\n",
    "jj = 0\n",
    "for rand_case in tqdm(range(x_train.shape[0]), desc=\"Generating phi prediction from x_train ...\"):\n",
    "    x_in = np.expand_dims(x_train[rand_case,...],axis=0)\n",
    "    # prediction\n",
    "    new_prediction = model.predict(x_in,verbose=\"0\")\n",
    "    x_train_pred_phi[jj,:,:,0] = np.round(new_prediction[0,0,:,:,0])\n",
    "    x_train_pred_phi[jj,:,:,1] = np.round(new_prediction[0,0,:,:,-1])\n",
    "    x_train_pred_phi[jj,:,:,2] = iter_train[rand_case,0,:,:,0]\n",
    "    jj+=1\n",
    "\n",
    "y_train_phi = np.expand_dims(y_train[:,0,:,:,0],axis=3)\n",
    "y_train_tips = np.expand_dims(y_train[:,0,:,:,1],axis=3)\n",
    "# y_train_tips = y_train_phi-np.expand_dims(x_train_pred_phi[:,:,:,0],axis=3)\n",
    "y_train_tips[y_train_tips!=0] = 1\n",
    "\n",
    "print(\"Training Dataset Shapes: \" + str(x_train_pred_phi.shape) + \", Target Tips Shape:\" + str(y_train_tips.shape) + \", Target Phi Shapes:\" + str(y_train_phi.shape))"
   ]
  },
  {
   "cell_type": "code",
   "execution_count": 15,
   "metadata": {},
   "outputs": [
    {
     "name": "stdout",
     "output_type": "stream",
     "text": [
      "Rand case: 4\n"
     ]
    },
    {
     "data": {
      "image/png": "[encoded data removed]",
      "text/plain": [
       "<Figure size 432x288 with 8 Axes>"
      ]
     },
     "metadata": {
      "needs_background": "light"
     },
     "output_type": "display_data"
    }
   ],
   "source": [
    "rand_case = np.random.randint((len(val_dataset)))\n",
    "print(f\"Rand case: {rand_case}\")\n",
    "plt.subplot(1,4,1)\n",
    "plt.imshow(x_train_pred_phi[rand_case,...,0])\n",
    "plt.colorbar()\n",
    "plt.subplot(1,4,2)\n",
    "plt.imshow(y_train_tips[rand_case,...])\n",
    "plt.colorbar()\n",
    "plt.subplot(1,4,3)\n",
    "plt.imshow(x_train_pred_phi[rand_case,...,1])\n",
    "plt.colorbar()\n",
    "plt.subplot(1,4,4)\n",
    "plt.imshow(y_train_phi[rand_case,...])\n",
    "plt.colorbar()\n",
    "plt.show()"
   ]
  },
  {
   "cell_type": "code",
   "execution_count": 16,
   "metadata": {},
   "outputs": [
    {
     "name": "stderr",
     "output_type": "stream",
     "text": [
      "Generating phi prediction from x_val ...: 100%|██████████| 1472/1472 [00:46<00:00, 31.62it/s]\n"
     ]
    },
    {
     "name": "stdout",
     "output_type": "stream",
     "text": [
      "Training Dataset Shapes: (1472, 100, 100, 3), Target Tips Shape:(1472, 100, 100, 1), Target Phi Shapes:(1472, 100, 100, 1)\n"
     ]
    }
   ],
   "source": [
    "x_val_pred_phi = np.zeros([x_val.shape[0],x_val.shape[2],x_val.shape[3],3])\n",
    "jj = 0\n",
    "for rand_case in tqdm(range(x_val.shape[0]), desc=\"Generating phi prediction from x_val ...\"):\n",
    "    x_in = np.expand_dims(x_val[rand_case,...],axis=0)\n",
    "    # prediction\n",
    "    new_prediction = model.predict(x_in,verbose=\"0\")\n",
    "    x_val_pred_phi[jj,:,:,0] = np.round(new_prediction[0,0,:,:,0])\n",
    "    x_val_pred_phi[jj,:,:,1] = np.round(new_prediction[0,0,:,:,-1])\n",
    "    x_val_pred_phi[jj,:,:,2] = iter_val[rand_case,0,:,:,0]\n",
    "    jj+=1\n",
    "\n",
    "y_val_phi = np.expand_dims(y_val[:,0,:,:,0],axis=3)\n",
    "y_val_tips = np.expand_dims(y_val[:,0,:,:,1],axis=3)\n",
    "# y_val_tips = y_val_phi-np.expand_dims(x_val_pred_phi[:,:,:,0],axis=3)\n",
    "y_val_tips[y_val_tips!=0] = 1\n",
    "\n",
    "print(\"Training Dataset Shapes: \" + str(x_val_pred_phi.shape) + \", Target Tips Shape:\" + str(y_val_tips.shape) + \", Target Phi Shapes:\" + str(y_val_phi.shape))"
   ]
  },
  {
   "cell_type": "code",
   "execution_count": 17,
   "metadata": {},
   "outputs": [
    {
     "name": "stdout",
     "output_type": "stream",
     "text": [
      "Rand case: 0\n"
     ]
    },
    {
     "data": {
      "image/png": "[encoded data removed]",
      "text/plain": [
       "<Figure size 432x288 with 8 Axes>"
      ]
     },
     "metadata": {
      "needs_background": "light"
     },
     "output_type": "display_data"
    }
   ],
   "source": [
    "rand_case = np.random.randint((len(val_dataset)))\n",
    "print(f\"Rand case: {rand_case}\")\n",
    "plt.subplot(1,4,1)\n",
    "plt.imshow(x_val_pred_phi[rand_case,...,0])\n",
    "plt.colorbar()\n",
    "plt.subplot(1,4,2)\n",
    "plt.imshow(y_val_tips[rand_case,...])\n",
    "plt.colorbar()\n",
    "plt.subplot(1,4,3)\n",
    "plt.imshow(x_val_pred_phi[rand_case,...,1])\n",
    "plt.colorbar()\n",
    "plt.subplot(1,4,4)\n",
    "plt.imshow(y_val_phi[rand_case,...])\n",
    "plt.colorbar()\n",
    "plt.show()"
   ]
  },
  {
   "cell_type": "code",
   "execution_count": 18,
   "metadata": {},
   "outputs": [],
   "source": [
    "np.save(\"data/tips/x_train_pred_phi.npy\",x_train_pred_phi)\n",
    "np.save(\"data/tips/x_val_pred_phi.npy\",x_val_pred_phi)\n",
    "np.save(\"data/tips/y_train_phi.npy\",y_train_phi)\n",
    "np.save(\"data/tips/y_train_tips.npy\",y_train_tips)\n",
    "np.save(\"data/tips/y_val_phi.npy\",y_val_phi)\n",
    "np.save(\"data/tips/y_val_tips.npy\",y_val_tips)"
   ]
  }
 ],
 "metadata": {
  "kernelspec": {
   "display_name": "Python 3.9.0 ('tf')",
   "language": "python",
   "name": "python3"
  },
  "language_info": {
   "codemirror_mode": {
    "name": "ipython",
    "version": 3
   },
   "file_extension": ".py",
   "mimetype": "text/x-python",
   "name": "python",
   "nbconvert_exporter": "python",
   "pygments_lexer": "ipython3",
   "version": "3.9.12"
  },
  "orig_nbformat": 4,
  "vscode": {
   "interpreter": {
    "hash": "3ef443919b3ee49497caa0ae1c9dcd325c651b678aa5033135de9f40fcfd4216"
   }
  }
 },
 "nbformat": 4,
 "nbformat_minor": 2
}
