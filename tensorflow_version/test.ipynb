{
 "cells": [
  {
   "cell_type": "code",
   "execution_count": 3,
   "metadata": {},
   "outputs": [],
   "source": [
    "import numpy as np\n",
    "import scipy.io\n",
    "import matplotlib.pyplot as plt"
   ]
  },
  {
   "cell_type": "code",
   "execution_count": 4,
   "metadata": {},
   "outputs": [],
   "source": [
    "def sum_filter_python(phi):\n",
    "    [Nx,Ny] = phi.shape\n",
    "    phi = np.round(phi)\n",
    "\n",
    "    phi_sum = np.zeros([Nx,Ny])\n",
    "    for i in range(5,Nx-4):\n",
    "        for k in range(5,Ny-4):\n",
    "            for j in range(k-4,k+4+1):\n",
    "                phi_sum[i,k] = phi_sum[i,k] + int(phi[i,k]==phi[i-4,j])*phi[i-4,j] + int(phi[i,k]==phi[i-3,j])*phi[i-3,j] + int(phi[i,k]==phi[i-2,j])*phi[i-2,j] + int(phi[i,k]==phi[i-1,j])*phi[i-1,j] + int(phi[i,k]==phi[i-0,j])*phi[i,j] + int(phi[i,k]==phi[i+1,j])*phi[i+1,j] + int(phi[i,k]==phi[i+2,j])*phi[i+2,j] + int(phi[i,k]==phi[i+3,j])*phi[i+3,j] + int(phi[i,k]==phi[i+4,j])*phi[i+4,j]\n",
    "\n",
    "    phi_sum = np.divide(phi,phi_sum)\n",
    "    phi_sum[np.isnan(phi_sum)] = 0\n",
    "    phi_sum_max = np.amax(np.amax(phi_sum))\n",
    "    phi_sum = np.divide(phi_sum,phi_sum_max)\n",
    "\n",
    "    phi_sum_temp = phi_sum\n",
    "    cutoff = np.percentile(np.reshape(phi_sum_temp,[Nx*Ny,1]),99.97)\n",
    "    phi_sum[phi_sum<cutoff] = 0\n",
    "    phi_sum[phi_sum!=1] = 0\n",
    "    return phi_sum\n",
    "\n",
    "def highlightZone(tip):\n",
    "    [Max_y,Max_x] = np.where(tip==1)\n",
    "    size_Max = len(Max_x)\n",
    "    Nx, Ny = phi_plot.shape\n",
    "    tips = np.zeros([Nx,Ny])\n",
    "    temp = np.zeros([Nx,Ny])\n",
    "    for l in range(0,size_Max):\n",
    "        max_x = Max_x[l]\n",
    "        max_y = Max_y[l]\n",
    "        for i in range(max_y-2,max_y+2):\n",
    "            for j in range(max_x-2,max_x+2):\n",
    "                    temp[i,j] = 1\n",
    "        tips = tips+temp\n",
    "\n",
    "    tips[np.abs(tips)>0] = 1\n",
    "    return tips"
   ]
  },
  {
   "cell_type": "code",
   "execution_count": 5,
   "metadata": {},
   "outputs": [],
   "source": [
    "import tensorflow as tf\n",
    "import tensorflow_probability as tfp\n",
    "def sum_filter_python_tf(phi):\n",
    "    [Nx,Ny] = tf.shape(phi)\n",
    "    phi = tf.math.round(phi)\n",
    "\n",
    "    phi_sum = tf.zeros([Nx,Ny])\n",
    "    for i in range(5,Nx-4):\n",
    "        for k in range(5,Ny-4):\n",
    "            for j in range(k-4,k+4+1):\n",
    "                phi_sum[i,k] = phi_sum[i,k] + int(phi[i,k]==phi[i-4,j])*phi[i-4,j] + int(phi[i,k]==phi[i-3,j])*phi[i-3,j] + int(phi[i,k]==phi[i-2,j])*phi[i-2,j] + int(phi[i,k]==phi[i-1,j])*phi[i-1,j] + int(phi[i,k]==phi[i-0,j])*phi[i,j] + int(phi[i,k]==phi[i+1,j])*phi[i+1,j] + int(phi[i,k]==phi[i+2,j])*phi[i+2,j] + int(phi[i,k]==phi[i+3,j])*phi[i+3,j] + int(phi[i,k]==phi[i+4,j])*phi[i+4,j]\n",
    "\n",
    "    phi_sum = tf.math.divide(phi,phi_sum)\n",
    "    phi_sum[tf.math.is_nan(phi_sum)] = 0\n",
    "    phi_sum_max = tf.reduce_max(tf.reduce_max(phi_sum))\n",
    "    phi_sum = tf.math.divide(phi_sum,phi_sum_max)\n",
    "\n",
    "    phi_sum_temp = phi_sum\n",
    "    cutoff = tfp.stats.percentile(np.reshape(phi_sum_temp,[Nx*Ny,1]),99.97)\n",
    "    phi_sum[phi_sum<cutoff] = 0\n",
    "    phi_sum[phi_sum!=1] = 0\n",
    "    return phi_sum\n",
    "\n",
    "def highlightZone_tf(tip):\n",
    "    [Max_y,Max_x] = np.where(tip==1)\n",
    "    size_Max = len(Max_x)\n",
    "    Nx, Ny = phi_plot.shape\n",
    "    tips = np.zeros([Nx,Ny])\n",
    "    temp = np.zeros([Nx,Ny])\n",
    "    for l in range(0,size_Max):\n",
    "        max_x = Max_x[l]\n",
    "        max_y = Max_y[l]\n",
    "        for i in range(max_y-2,max_y+2):\n",
    "            for j in range(max_x-2,max_x+2):\n",
    "                    temp[i,j] = 1\n",
    "        tips = tips+temp\n",
    "\n",
    "    tips[np.abs(tips)>0] = 1\n",
    "    return tips"
   ]
  },
  {
   "cell_type": "code",
   "execution_count": 6,
   "metadata": {},
   "outputs": [
    {
     "data": {
      "text/plain": [
       "<matplotlib.colorbar.Colorbar at 0x7fac0184de80>"
      ]
     },
     "execution_count": 6,
     "metadata": {},
     "output_type": "execute_result"
    },
    {
     "data": {
      "image/png": "[encoded data removed]",
      "text/plain": [
       "<Figure size 432x288 with 2 Axes>"
      ]
     },
     "metadata": {
      "needs_background": "light"
     },
     "output_type": "display_data"
    }
   ],
   "source": [
    "phi_plot = np.array(scipy.io.loadmat('phi_plot.mat')['phi_plot'])\n",
    "plt.imshow(phi_plot)\n",
    "plt.colorbar()"
   ]
  },
  {
   "cell_type": "code",
   "execution_count": 7,
   "metadata": {},
   "outputs": [
    {
     "name": "stderr",
     "output_type": "stream",
     "text": [
      "/tmp/ipykernel_79647/1105414150.py:11: RuntimeWarning: invalid value encountered in true_divide\n",
      "  phi_sum = np.divide(phi,phi_sum)\n"
     ]
    },
    {
     "data": {
      "text/plain": [
       "<matplotlib.image.AxesImage at 0x7fac01700a30>"
      ]
     },
     "execution_count": 7,
     "metadata": {},
     "output_type": "execute_result"
    },
    {
     "data": {
      "image/png": "[encoded data removed]",
      "text/plain": [
       "<Figure size 432x288 with 1 Axes>"
      ]
     },
     "metadata": {
      "needs_background": "light"
     },
     "output_type": "display_data"
    }
   ],
   "source": [
    "python_tip = sum_filter_python(phi_plot)\n",
    "tips = highlightZone(python_tip)\n",
    "plt.imshow(tips)"
   ]
  },
  {
   "cell_type": "code",
   "execution_count": 8,
   "metadata": {},
   "outputs": [
    {
     "name": "stderr",
     "output_type": "stream",
     "text": [
      "2022-06-23 20:09:19.802048: I tensorflow/stream_executor/cuda/cuda_gpu_executor.cc:975] successful NUMA node read from SysFS had negative value (-1), but there must be at least one NUMA node, so returning NUMA node zero\n",
      "2022-06-23 20:09:19.828036: I tensorflow/stream_executor/cuda/cuda_gpu_executor.cc:975] successful NUMA node read from SysFS had negative value (-1), but there must be at least one NUMA node, so returning NUMA node zero\n",
      "2022-06-23 20:09:19.828178: I tensorflow/stream_executor/cuda/cuda_gpu_executor.cc:975] successful NUMA node read from SysFS had negative value (-1), but there must be at least one NUMA node, so returning NUMA node zero\n",
      "2022-06-23 20:09:19.829238: I tensorflow/core/platform/cpu_feature_guard.cc:193] This TensorFlow binary is optimized with oneAPI Deep Neural Network Library (oneDNN) to use the following CPU instructions in performance-critical operations:  AVX2 FMA\n",
      "To enable them in other operations, rebuild TensorFlow with the appropriate compiler flags.\n",
      "2022-06-23 20:09:19.830156: I tensorflow/stream_executor/cuda/cuda_gpu_executor.cc:975] successful NUMA node read from SysFS had negative value (-1), but there must be at least one NUMA node, so returning NUMA node zero\n",
      "2022-06-23 20:09:19.830296: I tensorflow/stream_executor/cuda/cuda_gpu_executor.cc:975] successful NUMA node read from SysFS had negative value (-1), but there must be at least one NUMA node, so returning NUMA node zero\n",
      "2022-06-23 20:09:19.830409: I tensorflow/stream_executor/cuda/cuda_gpu_executor.cc:975] successful NUMA node read from SysFS had negative value (-1), but there must be at least one NUMA node, so returning NUMA node zero\n",
      "2022-06-23 20:09:20.164553: I tensorflow/stream_executor/cuda/cuda_gpu_executor.cc:975] successful NUMA node read from SysFS had negative value (-1), but there must be at least one NUMA node, so returning NUMA node zero\n",
      "2022-06-23 20:09:20.164692: I tensorflow/stream_executor/cuda/cuda_gpu_executor.cc:975] successful NUMA node read from SysFS had negative value (-1), but there must be at least one NUMA node, so returning NUMA node zero\n",
      "2022-06-23 20:09:20.164821: I tensorflow/stream_executor/cuda/cuda_gpu_executor.cc:975] successful NUMA node read from SysFS had negative value (-1), but there must be at least one NUMA node, so returning NUMA node zero\n",
      "2022-06-23 20:09:20.164914: I tensorflow/core/common_runtime/gpu/gpu_device.cc:1532] Created device /job:localhost/replica:0/task:0/device:GPU:0 with 34 MB memory:  -> device: 0, name: NVIDIA GeForce RTX 3070, pci bus id: 0000:2b:00.0, compute capability: 8.6\n",
      "2022-06-23 20:09:20.167766: I tensorflow/stream_executor/cuda/cuda_driver.cc:739] failed to allocate 34.25M (35913728 bytes) from device: CUDA_ERROR_OUT_OF_MEMORY: out of memory\n",
      "2022-06-23 20:09:20.168054: I tensorflow/stream_executor/cuda/cuda_driver.cc:739] failed to allocate 30.83M (32322560 bytes) from device: CUDA_ERROR_OUT_OF_MEMORY: out of memory\n",
      "2022-06-23 20:09:20.168325: I tensorflow/stream_executor/cuda/cuda_driver.cc:739] failed to allocate 27.74M (29090304 bytes) from device: CUDA_ERROR_OUT_OF_MEMORY: out of memory\n",
      "2022-06-23 20:09:20.168596: I tensorflow/stream_executor/cuda/cuda_driver.cc:739] failed to allocate 24.97M (26181376 bytes) from device: CUDA_ERROR_OUT_OF_MEMORY: out of memory\n",
      "2022-06-23 20:09:20.168877: I tensorflow/stream_executor/cuda/cuda_driver.cc:739] failed to allocate 22.47M (23563264 bytes) from device: CUDA_ERROR_OUT_OF_MEMORY: out of memory\n",
      "2022-06-23 20:09:20.169166: I tensorflow/stream_executor/cuda/cuda_driver.cc:739] failed to allocate 20.22M (21207040 bytes) from device: CUDA_ERROR_OUT_OF_MEMORY: out of memory\n",
      "2022-06-23 20:09:20.169456: I tensorflow/stream_executor/cuda/cuda_driver.cc:739] failed to allocate 18.20M (19086336 bytes) from device: CUDA_ERROR_OUT_OF_MEMORY: out of memory\n",
      "2022-06-23 20:09:20.169746: I tensorflow/stream_executor/cuda/cuda_driver.cc:739] failed to allocate 16.38M (17177856 bytes) from device: CUDA_ERROR_OUT_OF_MEMORY: out of memory\n",
      "2022-06-23 20:09:20.170048: I tensorflow/stream_executor/cuda/cuda_driver.cc:739] failed to allocate 14.74M (15460096 bytes) from device: CUDA_ERROR_OUT_OF_MEMORY: out of memory\n",
      "2022-06-23 20:09:20.170370: I tensorflow/stream_executor/cuda/cuda_driver.cc:739] failed to allocate 13.27M (13914112 bytes) from device: CUDA_ERROR_OUT_OF_MEMORY: out of memory\n",
      "2022-06-23 20:09:20.170677: I tensorflow/stream_executor/cuda/cuda_driver.cc:739] failed to allocate 11.94M (12522752 bytes) from device: CUDA_ERROR_OUT_OF_MEMORY: out of memory\n",
      "2022-06-23 20:09:20.170979: I tensorflow/stream_executor/cuda/cuda_driver.cc:739] failed to allocate 10.75M (11270656 bytes) from device: CUDA_ERROR_OUT_OF_MEMORY: out of memory\n"
     ]
    }
   ],
   "source": [
    "import tensorflow as tf\n",
    "import tensorflow_probability as tfp\n",
    "\n",
    "phi = phi_plot\n",
    "[Nx,Ny] = tf.shape(phi)\n",
    "phi = tf.math.round(phi)\n",
    "\n",
    "phi_sum = tf.Variable(tf.zeros([Nx,Ny],tf.float64))\n",
    "# ps = np.zeros([Nx,Ny])\n",
    "\n",
    "for i in range(5,Nx-4):\n",
    "    for k in range(5,Ny-4):\n",
    "        for j in range(k-4,k+4+1):\n",
    "            # ps[i,k] = tf.cast(phi[i,k],tf.float64) + tf.cast(phi[i,k]==phi[i-4,j],tf.float64)*phi[i-4,j] + tf.cast(phi[i,k]==phi[i-3,j],tf.float64)*phi[i-3,j] + tf.cast(phi[i,k]==phi[i-2,j],tf.float64)*phi[i-2,j] + tf.cast(phi[i,k]==phi[i-1,j],tf.float64)*phi[i-1,j] + tf.cast(phi[i,k]==phi[i-0,j],tf.float64)*phi[i,j] + tf.cast(phi[i,k]==phi[i+1,j],tf.float64)*phi[i+1,j] + tf.cast(phi[i,k]==phi[i+2,j],tf.float64)*phi[i+2,j] + tf.cast(phi[i,k]==phi[i+3,j],tf.float64)*phi[i+3,j] + tf.cast(phi[i,k]==phi[i+4,j],tf.float64)*phi[i+4,j]\n",
    "            phi_sum[i,k].assign(tf.cast(phi[i,k],tf.float64) + tf.cast(phi[i,k]==phi[i-4,j],tf.float64)*phi[i-4,j])\n",
    "            \n",
    "# ps = np.divide(phi,phi_sum)\n",
    "# phi_sum[tf.cast(tf.math.is_nan(phi_sum),tf.int8)] = 0\n",
    "# phi_sum_max = tf.reduce_max(tf.reduce_max(phi_sum))\n",
    "# phi_sum = tf.math.divide(phi_sum,phi_sum_max)\n",
    "\n",
    "# phi_sum_temp = phi_sum\n",
    "# cutoff = tfp.stats.percentile(np.reshape(phi_sum_temp,[Nx*Ny,1]),99.97)\n",
    "# phi_sum[phi_sum<cutoff] = 0\n",
    "# phi_sum[phi_sum!=1] = 0\n",
    "\n",
    "# plt.imshow(phi_sum)"
   ]
  },
  {
   "cell_type": "code",
   "execution_count": 45,
   "metadata": {},
   "outputs": [
    {
     "name": "stderr",
     "output_type": "stream",
     "text": [
      "/tmp/ipykernel_48978/145551458.py:1: RuntimeWarning: invalid value encountered in true_divide\n",
      "  phi_sum = np.divide(phi,ps)\n"
     ]
    },
    {
     "data": {
      "text/plain": [
       "<matplotlib.image.AxesImage at 0x7fc58c0bcf70>"
      ]
     },
     "execution_count": 45,
     "metadata": {},
     "output_type": "execute_result"
    },
    {
     "data": {
      "image/png": "[encoded data removed]",
      "text/plain": [
       "<Figure size 432x288 with 1 Axes>"
      ]
     },
     "metadata": {
      "needs_background": "light"
     },
     "output_type": "display_data"
    }
   ],
   "source": [
    "phi_sum = np.divide(phi,ps)\n",
    "phi_sum[np.isnan(phi_sum)] = 0\n",
    "phi_sum_max = np.amax(np.amax(phi_sum))\n",
    "phi_sum = np.divide(phi_sum,phi_sum_max)\n",
    "\n",
    "phi_sum_temp = phi_sum\n",
    "cutoff = np.percentile(np.reshape(phi_sum_temp,[Nx*Ny,1]),99.97)\n",
    "phi_sum[phi_sum<cutoff] = 0\n",
    "phi_sum[phi_sum!=1] = 0\n",
    "plt.imshow(phi_sum)"
   ]
  },
  {
   "cell_type": "code",
   "execution_count": 46,
   "metadata": {},
   "outputs": [
    {
     "name": "stderr",
     "output_type": "stream",
     "text": [
      "/tmp/ipykernel_48978/1030842525.py:10: RuntimeWarning: invalid value encountered in true_divide\n",
      "  phi_sum = np.divide(phi,phi_sum)\n"
     ]
    }
   ],
   "source": [
    "[Nx,Ny] = phi.shape\n",
    "phi = np.round(phi)\n",
    "\n",
    "phi_sum = np.zeros([Nx,Ny])\n",
    "for i in range(5,Nx-4):\n",
    "    for k in range(5,Ny-4):\n",
    "        for j in range(k-4,k+4+1):\n",
    "            phi_sum[i,k] = phi_sum[i,k] + int(phi[i,k]==phi[i-4,j])*phi[i-4,j] + int(phi[i,k]==phi[i-3,j])*phi[i-3,j] + int(phi[i,k]==phi[i-2,j])*phi[i-2,j] + int(phi[i,k]==phi[i-1,j])*phi[i-1,j] + int(phi[i,k]==phi[i-0,j])*phi[i,j] + int(phi[i,k]==phi[i+1,j])*phi[i+1,j] + int(phi[i,k]==phi[i+2,j])*phi[i+2,j] + int(phi[i,k]==phi[i+3,j])*phi[i+3,j] + int(phi[i,k]==phi[i+4,j])*phi[i+4,j]\n",
    "\n",
    "phi_sum = np.divide(phi,phi_sum)\n",
    "phi_sum[np.isnan(phi_sum)] = 0\n",
    "phi_sum_max = np.amax(np.amax(phi_sum))\n",
    "phi_sum = np.divide(phi_sum,phi_sum_max)\n",
    "\n",
    "phi_sum_temp = phi_sum\n",
    "cutoff = np.percentile(np.reshape(phi_sum_temp,[Nx*Ny,1]),99.97)\n",
    "phi_sum[phi_sum<cutoff] = 0\n",
    "phi_sum[phi_sum!=1] = 0"
   ]
  },
  {
   "cell_type": "code",
   "execution_count": 34,
   "metadata": {},
   "outputs": [
    {
     "ename": "TypeError",
     "evalue": "only integer scalar arrays can be converted to a scalar index",
     "output_type": "error",
     "traceback": [
      "\u001b[0;31m---------------------------------------------------------------------------\u001b[0m",
      "\u001b[0;31mTypeError\u001b[0m                                 Traceback (most recent call last)",
      "\u001b[1;32m/home/kuanrenqian/Documents/Data_generation_for_conv2DLSTM/tensorflow_version/test.ipynb Cell 7'\u001b[0m in \u001b[0;36m<cell line: 1>\u001b[0;34m()\u001b[0m\n\u001b[0;32m----> <a href='vscode-notebook-cell:/home/kuanrenqian/Documents/Data_generation_for_conv2DLSTM/tensorflow_version/test.ipynb#ch0000028?line=0'>1</a>\u001b[0m phi_sum[tf\u001b[39m.\u001b[39mcast(tf\u001b[39m.\u001b[39mmath\u001b[39m.\u001b[39mis_nan(phi_sum),tf\u001b[39m.\u001b[39mint8)] \u001b[39m=\u001b[39m \u001b[39m0\u001b[39m\n",
      "File \u001b[0;32m~/anaconda3/envs/tf/lib/python3.9/site-packages/tensorflow/python/framework/ops.py:1067\u001b[0m, in \u001b[0;36m_EagerTensorBase.__index__\u001b[0;34m(self)\u001b[0m\n\u001b[1;32m   1066\u001b[0m \u001b[39mdef\u001b[39;00m \u001b[39m__index__\u001b[39m(\u001b[39mself\u001b[39m):\n\u001b[0;32m-> 1067\u001b[0m   \u001b[39mreturn\u001b[39;00m \u001b[39mself\u001b[39;49m\u001b[39m.\u001b[39;49m_numpy()\u001b[39m.\u001b[39;49m\u001b[39m__index__\u001b[39;49m()\n",
      "\u001b[0;31mTypeError\u001b[0m: only integer scalar arrays can be converted to a scalar index"
     ]
    }
   ],
   "source": [
    "phi_sum[tf.cast(tf.math.is_nan(phi_sum),tf.int8)] = 0"
   ]
  },
  {
   "cell_type": "code",
   "execution_count": 35,
   "metadata": {},
   "outputs": [
    {
     "data": {
      "text/plain": [
       "<tf.Tensor: shape=(63, 63), dtype=bool, numpy=\n",
       "array([[ True,  True,  True, ...,  True,  True,  True],\n",
       "       [ True,  True,  True, ...,  True,  True,  True],\n",
       "       [ True,  True,  True, ...,  True,  True,  True],\n",
       "       ...,\n",
       "       [ True,  True,  True, ...,  True,  True,  True],\n",
       "       [ True,  True,  True, ...,  True,  True,  True],\n",
       "       [ True,  True,  True, ...,  True,  True,  True]])>"
      ]
     },
     "execution_count": 35,
     "metadata": {},
     "output_type": "execute_result"
    }
   ],
   "source": [
    "tf.math.is_nan(phi_sum)"
   ]
  },
  {
   "cell_type": "code",
   "execution_count": 36,
   "metadata": {},
   "outputs": [
    {
     "data": {
      "text/plain": [
       "<tf.Tensor: shape=(63, 63), dtype=int8, numpy=\n",
       "array([[1, 1, 1, ..., 1, 1, 1],\n",
       "       [1, 1, 1, ..., 1, 1, 1],\n",
       "       [1, 1, 1, ..., 1, 1, 1],\n",
       "       ...,\n",
       "       [1, 1, 1, ..., 1, 1, 1],\n",
       "       [1, 1, 1, ..., 1, 1, 1],\n",
       "       [1, 1, 1, ..., 1, 1, 1]], dtype=int8)>"
      ]
     },
     "execution_count": 36,
     "metadata": {},
     "output_type": "execute_result"
    }
   ],
   "source": [
    "tf.cast(tf.math.is_nan(phi_sum),tf.int8)"
   ]
  },
  {
   "cell_type": "code",
   "execution_count": 19,
   "metadata": {},
   "outputs": [
    {
     "data": {
      "text/plain": [
       "<tf.Tensor: shape=(), dtype=float64, numpy=1.0>"
      ]
     },
     "execution_count": 19,
     "metadata": {},
     "output_type": "execute_result"
    }
   ],
   "source": [
    "i = 10\n",
    "j = 30\n",
    "tf.cast(phi[i,k]==phi[i-4,j],tf.float64)"
   ]
  },
  {
   "cell_type": "code",
   "execution_count": 21,
   "metadata": {},
   "outputs": [
    {
     "data": {
      "text/plain": [
       "<matplotlib.image.AxesImage at 0x7fc58f4d0460>"
      ]
     },
     "execution_count": 21,
     "metadata": {},
     "output_type": "execute_result"
    },
    {
     "data": {
      "image/png": "[encoded data removed]",
      "text/plain": [
       "<Figure size 432x288 with 1 Axes>"
      ]
     },
     "metadata": {
      "needs_background": "light"
     },
     "output_type": "display_data"
    }
   ],
   "source": [
    "ps = np.zeros([Nx,Ny])\n",
    "ps[i,k] = tf.cast(phi_sum[i,k],tf.float64) + tf.cast(phi[i,k]==phi[i-4,j],tf.float64)*phi[i-4,j]\n",
    "plt.imshow(ps)"
   ]
  },
  {
   "cell_type": "code",
   "execution_count": 24,
   "metadata": {},
   "outputs": [
    {
     "data": {
      "text/plain": [
       "<matplotlib.image.AxesImage at 0x7fc42dc22f10>"
      ]
     },
     "execution_count": 24,
     "metadata": {},
     "output_type": "execute_result"
    },
    {
     "data": {
      "image/png": "[encoded data removed]",
      "text/plain": [
       "<Figure size 432x288 with 1 Axes>"
      ]
     },
     "metadata": {
      "needs_background": "light"
     },
     "output_type": "display_data"
    }
   ],
   "source": [
    "phi = phi_plot\n",
    "[Nx,Ny] = tf.shape(phi)\n",
    "phi = tf.math.round(phi)\n",
    "plt.imshow(phi)"
   ]
  },
  {
   "cell_type": "code",
   "execution_count": 25,
   "metadata": {},
   "outputs": [
    {
     "data": {
      "text/plain": [
       "<tf.Tensor: shape=(63, 63), dtype=float64, numpy=\n",
       "array([[0., 0., 0., ..., 0., 0., 0.],\n",
       "       [0., 0., 0., ..., 0., 0., 0.],\n",
       "       [0., 0., 0., ..., 0., 0., 0.],\n",
       "       ...,\n",
       "       [0., 0., 0., ..., 0., 0., 0.],\n",
       "       [0., 0., 0., ..., 0., 0., 0.],\n",
       "       [0., 0., 0., ..., 0., 0., 0.]])>"
      ]
     },
     "execution_count": 25,
     "metadata": {},
     "output_type": "execute_result"
    }
   ],
   "source": [
    "phi"
   ]
  },
  {
   "cell_type": "code",
   "execution_count": null,
   "metadata": {},
   "outputs": [],
   "source": []
  }
 ],
 "metadata": {
  "kernelspec": {
   "display_name": "Python 3.9.12 ('tf')",
   "language": "python",
   "name": "python3"
  },
  "language_info": {
   "codemirror_mode": {
    "name": "ipython",
    "version": 3
   },
   "file_extension": ".py",
   "mimetype": "text/x-python",
   "name": "python",
   "nbconvert_exporter": "python",
   "pygments_lexer": "ipython3",
   "version": "3.9.12"
  },
  "orig_nbformat": 4,
  "vscode": {
   "interpreter": {
    "hash": "4cf18d19eddedd22c5710469a11114b46d1b5b3533e17e85d513cd3476fd19bd"
   }
  }
 },
 "nbformat": 4,
 "nbformat_minor": 2
}
