{
 "cells": [
  {
   "cell_type": "code",
   "execution_count": 122,
   "metadata": {},
   "outputs": [],
   "source": [
    "import numpy as np\n",
    "import scipy.io\n",
    "import matplotlib.pyplot as plt"
   ]
  },
  {
   "cell_type": "code",
   "execution_count": 123,
   "metadata": {},
   "outputs": [
    {
     "data": {
      "text/plain": [
       "<matplotlib.colorbar.Colorbar at 0x1d652ce2850>"
      ]
     },
     "execution_count": 123,
     "metadata": {},
     "output_type": "execute_result"
    },
    {
     "data": {
      "image/png": "[encoded data removed]",
      "text/plain": [
       "<Figure size 432x288 with 2 Axes>"
      ]
     },
     "metadata": {
      "needs_background": "light"
     },
     "output_type": "display_data"
    }
   ],
   "source": [
    "phi_plot = np.array(scipy.io.loadmat('phi_plot.mat')['phi_plot'])\n",
    "plt.imshow(phi_plot)\n",
    "plt.colorbar()"
   ]
  },
  {
   "cell_type": "code",
   "execution_count": 128,
   "metadata": {},
   "outputs": [],
   "source": [
    "def sum_filter_1(phi):\n",
    "    [Nx,Ny] = phi.shape\n",
    "    phi = np.round(phi)\n",
    "\n",
    "    phi_sum = np.zeros([Nx,Ny])\n",
    "    for i in range(5,Nx-4):\n",
    "        for k in range(5,Ny-4):\n",
    "            for j in range(k-4,k+4+1):\n",
    "                phi_sum[i,k] = phi_sum[i,k] + int(phi[i,k]==phi[i-4,j])*phi[i-4,j] + int(phi[i,k]==phi[i-3,j])*phi[i-3,j] + int(phi[i,k]==phi[i-2,j])*phi[i-2,j] + int(phi[i,k]==phi[i-1,j])*phi[i-1,j] + int(phi[i,k]==phi[i-0,j])*phi[i,j] + int(phi[i,k]==phi[i+1,j])*phi[i+1,j] + int(phi[i,k]==phi[i+2,j])*phi[i+2,j] + int(phi[i,k]==phi[i+3,j])*phi[i+3,j] + int(phi[i,k]==phi[i+4,j])*phi[i+4,j]\n",
    "\n",
    "    phi_sum = np.divide(phi,phi_sum)\n",
    "    phi_sum[np.isnan(phi_sum)] = 0\n",
    "    phi_sum_max = np.amax(np.amax(phi_sum))\n",
    "    phi_sum = np.divide(phi_sum,phi_sum_max)\n",
    "\n",
    "    phi_sum_temp = phi_sum\n",
    "    cutoff = np.percentile(np.reshape(phi_sum_temp,[Nx*Ny,1]),99.97)\n",
    "    phi_sum[phi_sum<cutoff] = 0\n",
    "    phi_sum[phi_sum!=1] = 0\n",
    "    return phi_sum"
   ]
  },
  {
   "cell_type": "code",
   "execution_count": 130,
   "metadata": {},
   "outputs": [
    {
     "name": "stderr",
     "output_type": "stream",
     "text": [
      "C:\\Users\\Kuanr\\AppData\\Local\\Temp\\ipykernel_32204\\669561670.py:11: RuntimeWarning: invalid value encountered in true_divide\n",
      "  phi_sum = np.divide(phi,phi_sum)\n"
     ]
    },
    {
     "data": {
      "text/plain": [
       "<matplotlib.colorbar.Colorbar at 0x1d652fb4790>"
      ]
     },
     "execution_count": 130,
     "metadata": {},
     "output_type": "execute_result"
    },
    {
     "data": {
      "image/png": "[encoded data removed]",
      "text/plain": [
       "<Figure size 432x288 with 4 Axes>"
      ]
     },
     "metadata": {
      "needs_background": "light"
     },
     "output_type": "display_data"
    }
   ],
   "source": [
    "import matlab.engine\n",
    "eng = matlab.engine.start_matlab()\n",
    "matlab_tips = np.round(eng.sum_filter(matlab.double(np.array(phi_plot).astype('float64')),0))\n",
    "eng.quit()\n",
    "\n",
    "python_tip = sum_filter_1(phi_plot)\n",
    "plt.subplot(1,2,1)\n",
    "plt.imshow(matlab_tips)\n",
    "plt.colorbar()\n",
    "plt.subplot(1,2,2)\n",
    "plt.imshow(python_tip)\n",
    "plt.colorbar()"
   ]
  }
 ],
 "metadata": {
  "kernelspec": {
   "display_name": "Python 3.9.12 ('tf')",
   "language": "python",
   "name": "python3"
  },
  "language_info": {
   "codemirror_mode": {
    "name": "ipython",
    "version": 3
   },
   "file_extension": ".py",
   "mimetype": "text/x-python",
   "name": "python",
   "nbconvert_exporter": "python",
   "pygments_lexer": "ipython3",
   "version": "3.9.12"
  },
  "orig_nbformat": 4,
  "vscode": {
   "interpreter": {
    "hash": "4cf18d19eddedd22c5710469a11114b46d1b5b3533e17e85d513cd3476fd19bd"
   }
  }
 },
 "nbformat": 4,
 "nbformat_minor": 2
}
