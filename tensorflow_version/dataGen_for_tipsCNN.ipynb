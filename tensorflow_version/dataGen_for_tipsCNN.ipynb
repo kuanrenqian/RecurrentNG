{
 "cells": [
  {
   "cell_type": "code",
   "execution_count": 1,
   "metadata": {},
   "outputs": [
    {
     "name": "stderr",
     "output_type": "stream",
     "text": [
      "2022-06-16 15:51:23.096772: I tensorflow/stream_executor/cuda/cuda_gpu_executor.cc:975] successful NUMA node read from SysFS had negative value (-1), but there must be at least one NUMA node, so returning NUMA node zero\n",
      "2022-06-16 15:51:23.122547: I tensorflow/stream_executor/cuda/cuda_gpu_executor.cc:975] successful NUMA node read from SysFS had negative value (-1), but there must be at least one NUMA node, so returning NUMA node zero\n",
      "2022-06-16 15:51:23.122690: I tensorflow/stream_executor/cuda/cuda_gpu_executor.cc:975] successful NUMA node read from SysFS had negative value (-1), but there must be at least one NUMA node, so returning NUMA node zero\n",
      "2022-06-16 15:51:23.123208: I tensorflow/core/platform/cpu_feature_guard.cc:193] This TensorFlow binary is optimized with oneAPI Deep Neural Network Library (oneDNN) to use the following CPU instructions in performance-critical operations:  AVX2 FMA\n",
      "To enable them in other operations, rebuild TensorFlow with the appropriate compiler flags.\n",
      "2022-06-16 15:51:23.124075: I tensorflow/stream_executor/cuda/cuda_gpu_executor.cc:975] successful NUMA node read from SysFS had negative value (-1), but there must be at least one NUMA node, so returning NUMA node zero\n",
      "2022-06-16 15:51:23.124184: I tensorflow/stream_executor/cuda/cuda_gpu_executor.cc:975] successful NUMA node read from SysFS had negative value (-1), but there must be at least one NUMA node, so returning NUMA node zero\n",
      "2022-06-16 15:51:23.124277: I tensorflow/stream_executor/cuda/cuda_gpu_executor.cc:975] successful NUMA node read from SysFS had negative value (-1), but there must be at least one NUMA node, so returning NUMA node zero\n",
      "2022-06-16 15:51:23.432676: I tensorflow/stream_executor/cuda/cuda_gpu_executor.cc:975] successful NUMA node read from SysFS had negative value (-1), but there must be at least one NUMA node, so returning NUMA node zero\n",
      "2022-06-16 15:51:23.432808: I tensorflow/stream_executor/cuda/cuda_gpu_executor.cc:975] successful NUMA node read from SysFS had negative value (-1), but there must be at least one NUMA node, so returning NUMA node zero\n",
      "2022-06-16 15:51:23.432906: I tensorflow/stream_executor/cuda/cuda_gpu_executor.cc:975] successful NUMA node read from SysFS had negative value (-1), but there must be at least one NUMA node, so returning NUMA node zero\n",
      "2022-06-16 15:51:23.432993: I tensorflow/core/common_runtime/gpu/gpu_device.cc:1532] Created device /job:localhost/replica:0/task:0/device:GPU:0 with 5721 MB memory:  -> device: 0, name: NVIDIA GeForce RTX 3070, pci bus id: 0000:2b:00.0, compute capability: 8.6\n"
     ]
    },
    {
     "name": "stdout",
     "output_type": "stream",
     "text": [
      "Model: \"model_1\"\n",
      "__________________________________________________________________________________________________\n",
      " Layer (type)                   Output Shape         Param #     Connected to                     \n",
      "==================================================================================================\n",
      " input_2 (InputLayer)           [(None, None, 100,   0           []                               \n",
      "                                100, 3)]                                                          \n",
      "                                                                                                  \n",
      " time_distributed_4 (TimeDistri  (None, None, 48, 48  4864       ['input_2[0][0]']                \n",
      " buted)                         , 64)                                                             \n",
      "                                                                                                  \n",
      " dropout_4 (Dropout)            (None, None, 48, 48  0           ['time_distributed_4[0][0]']     \n",
      "                                , 64)                                                             \n",
      "                                                                                                  \n",
      " time_distributed_5 (TimeDistri  (None, None, 22, 22  204928     ['dropout_4[0][0]']              \n",
      " buted)                         , 128)                                                            \n",
      "                                                                                                  \n",
      " dropout_5 (Dropout)            (None, None, 22, 22  0           ['time_distributed_5[0][0]']     \n",
      "                                , 128)                                                            \n",
      "                                                                                                  \n",
      " conv_lstm2d_1 (ConvLSTM2D)     (None, None, 22, 22  3277312     ['dropout_5[0][0]']              \n",
      "                                , 128)                                                            \n",
      "                                                                                                  \n",
      " concatenate_2 (Concatenate)    (None, None, 22, 22  0           ['dropout_5[0][0]',              \n",
      "                                , 256)                            'conv_lstm2d_1[0][0]']          \n",
      "                                                                                                  \n",
      " time_distributed_6 (TimeDistri  (None, None, 48, 48  589888     ['concatenate_2[0][0]']          \n",
      " buted)                         , 64)                                                             \n",
      "                                                                                                  \n",
      " dropout_6 (Dropout)            (None, None, 48, 48  0           ['time_distributed_6[0][0]']     \n",
      "                                , 64)                                                             \n",
      "                                                                                                  \n",
      " concatenate_3 (Concatenate)    (None, None, 48, 48  0           ['dropout_4[0][0]',              \n",
      "                                , 128)                            'dropout_6[0][0]']              \n",
      "                                                                                                  \n",
      " time_distributed_7 (TimeDistri  (None, None, 100, 1  4609       ['concatenate_3[0][0]']          \n",
      " buted)                         00, 1)                                                            \n",
      "                                                                                                  \n",
      " dropout_7 (Dropout)            (None, None, 100, 1  0           ['time_distributed_7[0][0]']     \n",
      "                                00, 1)                                                            \n",
      "                                                                                                  \n",
      "==================================================================================================\n",
      "Total params: 4,081,601\n",
      "Trainable params: 4,081,601\n",
      "Non-trainable params: 0\n",
      "__________________________________________________________________________________________________\n",
      "None\n"
     ]
    }
   ],
   "source": [
    "# load trained model\n",
    "import tensorflow as tf\n",
    "from tensorflow import keras\n",
    "from tensorflow.keras import layers, models\n",
    "\n",
    "model = keras.models.load_model('./saved_model/model_conv_lstm')\n",
    "print(model.summary())"
   ]
  },
  {
   "cell_type": "code",
   "execution_count": 2,
   "metadata": {},
   "outputs": [
    {
     "name": "stderr",
     "output_type": "stream",
     "text": [
      "2022-06-16 15:51:24.679175: I tensorflow/stream_executor/cuda/cuda_gpu_executor.cc:975] successful NUMA node read from SysFS had negative value (-1), but there must be at least one NUMA node, so returning NUMA node zero\n",
      "2022-06-16 15:51:24.679324: I tensorflow/stream_executor/cuda/cuda_gpu_executor.cc:975] successful NUMA node read from SysFS had negative value (-1), but there must be at least one NUMA node, so returning NUMA node zero\n",
      "2022-06-16 15:51:24.679415: I tensorflow/stream_executor/cuda/cuda_gpu_executor.cc:975] successful NUMA node read from SysFS had negative value (-1), but there must be at least one NUMA node, so returning NUMA node zero\n",
      "2022-06-16 15:51:24.679545: I tensorflow/stream_executor/cuda/cuda_gpu_executor.cc:975] successful NUMA node read from SysFS had negative value (-1), but there must be at least one NUMA node, so returning NUMA node zero\n",
      "2022-06-16 15:51:24.679640: I tensorflow/stream_executor/cuda/cuda_gpu_executor.cc:975] successful NUMA node read from SysFS had negative value (-1), but there must be at least one NUMA node, so returning NUMA node zero\n",
      "2022-06-16 15:51:24.679716: I tensorflow/core/common_runtime/gpu/gpu_device.cc:1532] Created device /device:GPU:0 with 5721 MB memory:  -> device: 0, name: NVIDIA GeForce RTX 3070, pci bus id: 0000:2b:00.0, compute capability: 8.6\n"
     ]
    },
    {
     "data": {
      "text/plain": [
       "[name: \"/device:CPU:0\"\n",
       " device_type: \"CPU\"\n",
       " memory_limit: 268435456\n",
       " locality {\n",
       " }\n",
       " incarnation: 7681101379059990433\n",
       " xla_global_id: -1,\n",
       " name: \"/device:GPU:0\"\n",
       " device_type: \"GPU\"\n",
       " memory_limit: 5999230976\n",
       " locality {\n",
       "   bus_id: 1\n",
       "   links {\n",
       "   }\n",
       " }\n",
       " incarnation: 17298497210214531475\n",
       " physical_device_desc: \"device: 0, name: NVIDIA GeForce RTX 3070, pci bus id: 0000:2b:00.0, compute capability: 8.6\"\n",
       " xla_global_id: 416903419]"
      ]
     },
     "execution_count": 2,
     "metadata": {},
     "output_type": "execute_result"
    }
   ],
   "source": [
    "from tensorflow.python.client import device_lib\n",
    "device_lib.list_local_devices()"
   ]
  },
  {
   "cell_type": "code",
   "execution_count": 3,
   "metadata": {},
   "outputs": [
    {
     "name": "stdout",
     "output_type": "stream",
     "text": [
      "[ 0  1  2  4  5  6  7  8  9 11 12 13 14 15 16 17 19 21 22 23 26 27 28 29\n",
      " 30 32 33 34 35 36 37 43 44 45 48 50 51 52 53 54 56 57 59 60 62 63 64 65\n",
      " 66 67 68 69 73 75 76 77 78 80 81 82 83 84 85 86 87 88]\n",
      "[ 3 10 18 20 24 25 31 38 39 40 41 42 46 47 49 55 58 61 70 71 72 74 79]\n"
     ]
    }
   ],
   "source": [
    "import h5py\n",
    "import numpy as np\n",
    "h5 = h5py.File('./data/All_cases_100x100_per500_zoom.hdf5', mode='r')\n",
    "dataset = h5.get('phi')\n",
    "\n",
    "data_sz = dataset.shape[0]\n",
    "indexes = np.arange(data_sz)\n",
    "np.random.shuffle(indexes)\n",
    "train_index = np.sort(indexes[: int(0.75 * data_sz)])\n",
    "val_index = np.sort(indexes[int(0.75 * data_sz) :])\n",
    "print(train_index)\n",
    "print(val_index)"
   ]
  },
  {
   "cell_type": "code",
   "execution_count": 4,
   "metadata": {},
   "outputs": [
    {
     "data": {
      "text/plain": [
       "(89, 70, 100, 100, 3)"
      ]
     },
     "execution_count": 4,
     "metadata": {},
     "output_type": "execute_result"
    }
   ],
   "source": [
    "val_dataset = dataset\n",
    "val_dataset.shape"
   ]
  },
  {
   "cell_type": "code",
   "execution_count": 5,
   "metadata": {},
   "outputs": [
    {
     "name": "stdout",
     "output_type": "stream",
     "text": [
      "Validation Dataset Shapes: (89, 66, 100, 100, 3), (89, 66, 100, 100, 1)\n"
     ]
    }
   ],
   "source": [
    "def create_shifted_frames_3to1(data):\n",
    "    x1 = np.expand_dims(data[:, 1 : data.shape[1] - 3, :, :, 0]+data[:, 1 : data.shape[1] - 3, :, :, 1],4)\n",
    "    x2 = np.expand_dims(data[:, 2 : data.shape[1] - 2, :, :, 0]+data[:, 2 : data.shape[1] - 2, :, :, 1],4)\n",
    "    x3 = np.expand_dims(data[:, 3 : data.shape[1] - 1, :, :, 0]+data[:, 3 : data.shape[1] - 1, :, :, 1],4)\n",
    "    x = np.concatenate((x1,x2,x3), axis=4)\n",
    "    y = data[:, 4 : data.shape[1], :, :, 0]\n",
    "    y = np.expand_dims(y,4)\n",
    "    tips = data[:, 4 : data.shape[1], :, :, 1]\n",
    "    tips = np.expand_dims(tips,4)\n",
    "    return x,y,tips\n",
    "\n",
    "# x_train, y_train, tips_train = create_shifted_frames_3to1(train_dataset)\n",
    "x_val, y_val, tips_val = create_shifted_frames_3to1(val_dataset)\n",
    "\n",
    "# print(\"Training Dataset Shapes: \" + str(x_train.shape) + \", \" + str(y_train.shape))\n",
    "print(\"Validation Dataset Shapes: \" + str(x_val.shape) + \", \" + str(y_val.shape))"
   ]
  },
  {
   "cell_type": "code",
   "execution_count": 6,
   "metadata": {},
   "outputs": [
    {
     "name": "stderr",
     "output_type": "stream",
     "text": [
      "Running ...:   0%|          | 0/89 [00:00<?, ?it/s]2022-06-16 15:51:34.306629: I tensorflow/stream_executor/cuda/cuda_dnn.cc:384] Loaded cuDNN version 8303\n",
      "2022-06-16 15:51:35.064992: I tensorflow/core/platform/default/subprocess.cc:304] Start cannot spawn child process: No such file or directory\n",
      "Running ...: 100%|██████████| 89/89 [02:39<00:00,  1.80s/it]\n"
     ]
    }
   ],
   "source": [
    "import matplotlib.pyplot as plt\n",
    "from tqdm import tqdm\n",
    "\n",
    "outputFolder = './data'\n",
    "hdf5_file = h5py.File(outputFolder+'/All_cases_'+str(int(100))+'x'+str(int(100))+'_tips_PredictionBased.hdf5', mode='w')\n",
    "hdf5_file.create_dataset(\"phi\", (val_dataset.shape[0]*val_dataset.shape[1], 100, 100, 2), np.float64, chunks=(1, 100, 100, 1), compression=\"gzip\")\n",
    "\n",
    "jj=0\n",
    "for rand_case in tqdm (range(len(val_dataset)), desc=\"Running ...\"):\n",
    "    example_x = x_val[rand_case,...]\n",
    "    example_y = y_val[rand_case,...]\n",
    "    example_tips = tips_val[rand_case,...]\n",
    "\n",
    "    x_in = np.expand_dims(np.expand_dims(example_x[0,...],axis=0),axis=0)\n",
    "\n",
    "    for i in range(example_x.shape[0]-3):\n",
    "\n",
    "        new_prediction = model.predict(x_in,verbose=\"0\")\n",
    "        temp = np.zeros([1,1,100,100,3])\n",
    "\n",
    "        # tips = np.round(eng.generate_tips_for_python(matlab.double(np.array(new_prediction[0,0,:,:,0]).astype('float64')),5000))\n",
    "        tips = np.round(example_x[i,:,:,1])\n",
    "        # tips = example_tips[i,:,:,0]\n",
    "\n",
    "        temp[0,0,:,:,0] = x_in[0,0,:,:,1]\n",
    "        temp[0,0,:,:,1] = x_in[0,0,:,:,2]\n",
    "        temp[0,0,:,:,2] = np.round(new_prediction[0,0,:,:,0])+tips\n",
    "\n",
    "        x_in = temp\n",
    "\n",
    "        hdf5_file[\"phi\"][jj, :, :, 0] = new_prediction[0,0,:,:,0]\n",
    "        hdf5_file[\"phi\"][jj, :, :, 1] = example_tips[i,:,:,0]\n",
    "        jj+=1\n",
    "\n",
    "hdf5_file.close()"
   ]
  },
  {
   "cell_type": "code",
   "execution_count": null,
   "metadata": {},
   "outputs": [],
   "source": []
  }
 ],
 "metadata": {
  "kernelspec": {
   "display_name": "Python 3.9.12 ('tf')",
   "language": "python",
   "name": "python3"
  },
  "language_info": {
   "codemirror_mode": {
    "name": "ipython",
    "version": 3
   },
   "file_extension": ".py",
   "mimetype": "text/x-python",
   "name": "python",
   "nbconvert_exporter": "python",
   "pygments_lexer": "ipython3",
   "version": "3.9.12"
  },
  "orig_nbformat": 4,
  "vscode": {
   "interpreter": {
    "hash": "3ef443919b3ee49497caa0ae1c9dcd325c651b678aa5033135de9f40fcfd4216"
   }
  }
 },
 "nbformat": 4,
 "nbformat_minor": 2
}
