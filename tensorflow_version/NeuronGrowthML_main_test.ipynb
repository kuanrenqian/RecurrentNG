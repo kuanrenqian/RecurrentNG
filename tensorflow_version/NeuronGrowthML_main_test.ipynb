{
 "cells": [
  {
   "cell_type": "code",
   "execution_count": 1,
   "metadata": {
    "id": "5kPSC78hAsiU",
    "pycharm": {
     "name": "#%%\n"
    }
   },
   "outputs": [],
   "source": [
    "import numpy as np\n",
    "import matplotlib.pyplot as plt\n",
    "\n",
    "import tensorflow as tf\n",
    "from tensorflow import keras\n",
    "from tensorflow.keras import layers"
   ]
  },
  {
   "cell_type": "code",
   "execution_count": 2,
   "metadata": {},
   "outputs": [
    {
     "name": "stderr",
     "output_type": "stream",
     "text": [
      "2022-06-27 15:45:22.134323: I tensorflow/core/platform/cpu_feature_guard.cc:193] This TensorFlow binary is optimized with oneAPI Deep Neural Network Library (oneDNN) to use the following CPU instructions in performance-critical operations:  AVX2 FMA\n",
      "To enable them in other operations, rebuild TensorFlow with the appropriate compiler flags.\n",
      "2022-06-27 15:45:22.164280: I tensorflow/stream_executor/cuda/cuda_gpu_executor.cc:975] successful NUMA node read from SysFS had negative value (-1), but there must be at least one NUMA node, so returning NUMA node zero\n",
      "2022-06-27 15:45:22.189702: I tensorflow/stream_executor/cuda/cuda_gpu_executor.cc:975] successful NUMA node read from SysFS had negative value (-1), but there must be at least one NUMA node, so returning NUMA node zero\n",
      "2022-06-27 15:45:22.189853: I tensorflow/stream_executor/cuda/cuda_gpu_executor.cc:975] successful NUMA node read from SysFS had negative value (-1), but there must be at least one NUMA node, so returning NUMA node zero\n",
      "2022-06-27 15:45:22.486676: I tensorflow/stream_executor/cuda/cuda_gpu_executor.cc:975] successful NUMA node read from SysFS had negative value (-1), but there must be at least one NUMA node, so returning NUMA node zero\n",
      "2022-06-27 15:45:22.486817: I tensorflow/stream_executor/cuda/cuda_gpu_executor.cc:975] successful NUMA node read from SysFS had negative value (-1), but there must be at least one NUMA node, so returning NUMA node zero\n",
      "2022-06-27 15:45:22.486921: I tensorflow/stream_executor/cuda/cuda_gpu_executor.cc:975] successful NUMA node read from SysFS had negative value (-1), but there must be at least one NUMA node, so returning NUMA node zero\n",
      "2022-06-27 15:45:22.487008: I tensorflow/core/common_runtime/gpu/gpu_device.cc:1532] Created device /device:GPU:0 with 5645 MB memory:  -> device: 0, name: NVIDIA GeForce RTX 3070, pci bus id: 0000:2b:00.0, compute capability: 8.6\n"
     ]
    },
    {
     "data": {
      "text/plain": [
       "[name: \"/device:CPU:0\"\n",
       " device_type: \"CPU\"\n",
       " memory_limit: 268435456\n",
       " locality {\n",
       " }\n",
       " incarnation: 6357593869557948764\n",
       " xla_global_id: -1,\n",
       " name: \"/device:GPU:0\"\n",
       " device_type: \"GPU\"\n",
       " memory_limit: 5919801344\n",
       " locality {\n",
       "   bus_id: 1\n",
       "   links {\n",
       "   }\n",
       " }\n",
       " incarnation: 18346139008564975601\n",
       " physical_device_desc: \"device: 0, name: NVIDIA GeForce RTX 3070, pci bus id: 0000:2b:00.0, compute capability: 8.6\"\n",
       " xla_global_id: 416903419]"
      ]
     },
     "execution_count": 2,
     "metadata": {},
     "output_type": "execute_result"
    }
   ],
   "source": [
    "from tensorflow.python.client import device_lib\n",
    "device_lib.list_local_devices()"
   ]
  },
  {
   "cell_type": "code",
   "execution_count": 3,
   "metadata": {
    "pycharm": {
     "name": "#%%\n"
    }
   },
   "outputs": [
    {
     "name": "stdout",
     "output_type": "stream",
     "text": [
      "[0]\n",
      "[1]\n",
      "(2, 8, 20, 20, 2)\n"
     ]
    }
   ],
   "source": [
    "# import sys\n",
    "# log_path = 'log.txt'\n",
    "# sys.stdout = open(log_path, \"w\")\n",
    "\n",
    "import h5py\n",
    "# h5 = h5py.File('./data/All_cases_100x100_per500_zoom_06222022.hdf5', mode='r')\n",
    "h5 = h5py.File('./data/test.hdf5', mode='r')\n",
    "# h5 = h5py.File('./data/All_cases_100x100_per500_zoom.hdf5', mode='r')\n",
    "dataset = h5.get('phi')\n",
    "\n",
    "data_sz = dataset.shape[0]\n",
    "indexes = np.arange(data_sz)\n",
    "np.random.shuffle(indexes)\n",
    "train_index = np.sort(indexes[: int(0.75 * data_sz)])\n",
    "val_index = np.sort(indexes[int(0.75 * data_sz) :])\n",
    "print(train_index)\n",
    "print(val_index)\n",
    "print(dataset.shape)"
   ]
  },
  {
   "cell_type": "code",
   "execution_count": 4,
   "metadata": {},
   "outputs": [
    {
     "data": {
      "text/plain": [
       "(2, 8, 20, 20, 2)"
      ]
     },
     "execution_count": 4,
     "metadata": {},
     "output_type": "execute_result"
    }
   ],
   "source": [
    "# this part is a bit slow\n",
    "train_dataset = dataset[train_index,...]\n",
    "val_dataset = dataset[val_index,...]\n",
    "\n",
    "dataset.shape"
   ]
  },
  {
   "cell_type": "code",
   "execution_count": 5,
   "metadata": {
    "id": "tGTtFY0sAsiV",
    "pycharm": {
     "name": "#%%\n"
    }
   },
   "outputs": [
    {
     "name": "stdout",
     "output_type": "stream",
     "text": [
      "Training Dataset Shapes: (1, 4, 20, 20, 3), (1, 4, 20, 20, 1)\n",
      "Validation Dataset Shapes: (1, 4, 20, 20, 3), (1, 4, 20, 20, 1)\n"
     ]
    }
   ],
   "source": [
    "def create_shifted_frames_3to1(data):\n",
    "    x1 = np.expand_dims(data[:, 1 : data.shape[1] - 3, :, :, 0]+data[:, 1 : data.shape[1] - 3, :, :, 1],4)\n",
    "    x2 = np.expand_dims(data[:, 2 : data.shape[1] - 2, :, :, 0]+data[:, 2 : data.shape[1] - 2, :, :, 1],4)\n",
    "    x3 = np.expand_dims(data[:, 3 : data.shape[1] - 1, :, :, 0]+data[:, 3 : data.shape[1] - 1, :, :, 1],4)\n",
    "    x = np.concatenate((x1,x2,x3), axis=4)\n",
    "    y = data[:, 4 : data.shape[1], :, :, 0]\n",
    "    y = np.expand_dims(y,4)\n",
    "    return x,y\n",
    "\n",
    "x_train, y_train = create_shifted_frames_3to1(train_dataset)\n",
    "x_val, y_val = create_shifted_frames_3to1(val_dataset)\n",
    "\n",
    "print(\"Training Dataset Shapes: \" + str(x_train.shape) + \", \" + str(y_train.shape))\n",
    "print(\"Validation Dataset Shapes: \" + str(x_val.shape) + \", \" + str(y_val.shape))"
   ]
  },
  {
   "cell_type": "code",
   "execution_count": 6,
   "metadata": {
    "id": "_l-6iwGZAsiW",
    "pycharm": {
     "name": "#%%\n"
    }
   },
   "outputs": [
    {
     "ename": "IndexError",
     "evalue": "index 4 is out of bounds for axis 0 with size 4",
     "output_type": "error",
     "traceback": [
      "\u001b[0;31m---------------------------------------------------------------------------\u001b[0m",
      "\u001b[0;31mIndexError\u001b[0m                                Traceback (most recent call last)",
      "\u001b[1;32m/home/kuanrenqian/Documents/Data_generation_for_conv2DLSTM/tensorflow_version/NeuronGrowthML_main_test.ipynb Cell 6'\u001b[0m in \u001b[0;36m<cell line: 5>\u001b[0;34m()\u001b[0m\n\u001b[1;32m      <a href='vscode-notebook-cell://ssh-remote%2B172.31.56.86/home/kuanrenqian/Documents/Data_generation_for_conv2DLSTM/tensorflow_version/NeuronGrowthML_main_test.ipynb#ch0000005vscode-remote?line=5'>6</a>\u001b[0m plt\u001b[39m.\u001b[39msubplot(\u001b[39m7\u001b[39m,\u001b[39m4\u001b[39m,fig_ind)\n\u001b[1;32m      <a href='vscode-notebook-cell://ssh-remote%2B172.31.56.86/home/kuanrenqian/Documents/Data_generation_for_conv2DLSTM/tensorflow_version/NeuronGrowthML_main_test.ipynb#ch0000005vscode-remote?line=6'>7</a>\u001b[0m fig_ind \u001b[39m+\u001b[39m\u001b[39m=\u001b[39m \u001b[39m1\u001b[39m\n\u001b[0;32m----> <a href='vscode-notebook-cell://ssh-remote%2B172.31.56.86/home/kuanrenqian/Documents/Data_generation_for_conv2DLSTM/tensorflow_version/NeuronGrowthML_main_test.ipynb#ch0000005vscode-remote?line=7'>8</a>\u001b[0m plt\u001b[39m.\u001b[39mimshow(np\u001b[39m.\u001b[39msqueeze(x_train[data_choice][idx][:,:,\u001b[39m0\u001b[39m]),cmap\u001b[39m=\u001b[39m\u001b[39m'\u001b[39m\u001b[39mjet\u001b[39m\u001b[39m'\u001b[39m)\n\u001b[1;32m      <a href='vscode-notebook-cell://ssh-remote%2B172.31.56.86/home/kuanrenqian/Documents/Data_generation_for_conv2DLSTM/tensorflow_version/NeuronGrowthML_main_test.ipynb#ch0000005vscode-remote?line=8'>9</a>\u001b[0m plt\u001b[39m.\u001b[39mtitle(\u001b[39mf\u001b[39m\u001b[39m\"\u001b[39m\u001b[39mFrame \u001b[39m\u001b[39m{\u001b[39;00midx \u001b[39m+\u001b[39m \u001b[39m1\u001b[39m\u001b[39m}\u001b[39;00m\u001b[39m\"\u001b[39m)\n\u001b[1;32m     <a href='vscode-notebook-cell://ssh-remote%2B172.31.56.86/home/kuanrenqian/Documents/Data_generation_for_conv2DLSTM/tensorflow_version/NeuronGrowthML_main_test.ipynb#ch0000005vscode-remote?line=9'>10</a>\u001b[0m plt\u001b[39m.\u001b[39maxis(\u001b[39m\"\u001b[39m\u001b[39moff\u001b[39m\u001b[39m\"\u001b[39m)\n",
      "\u001b[0;31mIndexError\u001b[0m: index 4 is out of bounds for axis 0 with size 4"
     ]
    },
    {
     "data": {
      "image/png": "[encoded data removed]",
      "text/plain": [
       "<Figure size 1008x2016 with 32 Axes>"
      ]
     },
     "metadata": {
      "needs_background": "light"
     },
     "output_type": "display_data"
    }
   ],
   "source": [
    "fig, axes = plt.subplots(7, 4, figsize=(14, 28))\n",
    "\n",
    "data_choice = np.random.choice(range(len(x_train)), size=1)[0]\n",
    "fig_ind = 1\n",
    "for idx, ax in enumerate(axes.flat):\n",
    "    plt.subplot(7,4,fig_ind)\n",
    "    fig_ind += 1\n",
    "    plt.imshow(np.squeeze(x_train[data_choice][idx][:,:,0]),cmap='jet')\n",
    "    plt.title(f\"Frame {idx + 1}\")\n",
    "    plt.axis(\"off\")\n",
    "    plt.colorbar()\n",
    "    \n",
    "print(f\"Displaying frames for example {data_choice}.\")\n",
    "plt.show()"
   ]
  },
  {
   "cell_type": "code",
   "execution_count": null,
   "metadata": {},
   "outputs": [
    {
     "name": "stdout",
     "output_type": "stream",
     "text": [
      "Displaying frames for example 28.\n"
     ]
    },
    {
     "data": {
      "image/png": "[encoded data removed]",
      "text/plain": [
       "<Figure size 1008x2016 with 56 Axes>"
      ]
     },
     "metadata": {
      "needs_background": "light"
     },
     "output_type": "display_data"
    }
   ],
   "source": [
    "fig, axes = plt.subplots(7, 4, figsize=(14, 28))\n",
    "\n",
    "fig_ind = 1\n",
    "for idx, ax in enumerate(axes.flat):\n",
    "    plt.subplot(7,4,fig_ind)\n",
    "    fig_ind += 1\n",
    "    plt.imshow(np.squeeze(y_train[data_choice][idx][:,:,0]),cmap='jet')\n",
    "    plt.title(f\"Frame {idx + 1}\")\n",
    "    plt.axis(\"off\")\n",
    "    plt.colorbar()\n",
    "    \n",
    "print(f\"Displaying frames for example {data_choice}.\")\n",
    "plt.show()"
   ]
  },
  {
   "cell_type": "code",
   "execution_count": null,
   "metadata": {},
   "outputs": [],
   "source": [
    "# inp = layers.Input(shape=(None, *x_train.shape[2:]))\n",
    "\n",
    "# drop_rate = 0.1\n",
    "# x0 = layers.TimeDistributed(layers.Conv2D(\n",
    "#     filters=64,\n",
    "#     kernel_size=(5, 5),\n",
    "#     strides = (2, 2),\n",
    "#     padding=\"valid\",\n",
    "#     activation=\"relu\",\n",
    "# ))(inp)\n",
    "# x0 = layers.Dropout(drop_rate)(x0)\n",
    "# x1 = layers.TimeDistributed(layers.Conv2D(\n",
    "#     filters=128,\n",
    "#     kernel_size=(5, 5),\n",
    "#     strides = (2, 2),\n",
    "#     padding=\"valid\",\n",
    "#     activation=\"relu\",\n",
    "# ))(x0)\n",
    "# x1 = layers.Dropout(drop_rate)(x1)\n",
    "# x2 = layers.ConvLSTM2D(\n",
    "#     filters=128,\n",
    "#     kernel_size=(5, 5),\n",
    "#     padding=\"same\",\n",
    "#     return_sequences=True,\n",
    "#     activation=\"relu\",\n",
    "#     recurrent_dropout=drop_rate,\n",
    "# )(x1)\n",
    "# x3 = layers.Concatenate(axis=4)([x1,x2])\n",
    "# x4 = layers.TimeDistributed(layers.Conv2DTranspose(\n",
    "#     filters=64,\n",
    "#     kernel_size=(6, 6),\n",
    "#     strides = (2, 2),\n",
    "#     padding=\"valid\",\n",
    "#     activation=\"relu\",\n",
    "# ))(x3)\n",
    "# x4 = layers.Dropout(drop_rate)(x4)\n",
    "# x5 = layers.Concatenate(axis=4)([x0,x4])\n",
    "# x6 = layers.TimeDistributed(layers.Conv2DTranspose(\n",
    "#     filters=1,\n",
    "#     kernel_size=(6, 6),\n",
    "#     strides = (2, 2),\n",
    "#     padding=\"valid\",\n",
    "#     activation=\"sigmoid\",\n",
    "# ))(x5)\n",
    "# x6 = layers.Dropout(drop_rate)(x6)"
   ]
  },
  {
   "cell_type": "code",
   "execution_count": null,
   "metadata": {},
   "outputs": [],
   "source": [
    "def sum_filter_python(phi):\n",
    "    phi = phi.numpy()\n",
    "    Nx = phi.shape[0]\n",
    "    Ny = phi.shape[1]\n",
    "    phi = np.round(phi)\n",
    "\n",
    "    phi_sum = np.zeros([Nx,Ny])\n",
    "    for i in range(5,Nx-4):\n",
    "        for k in range(5,Ny-4):\n",
    "            for j in range(k-4,k+4+1):\n",
    "                phi_sum[i,k] = phi_sum[i,k] + int(phi[i,k]==phi[i-4,j])*phi[i-4,j] + int(phi[i,k]==phi[i-3,j])*phi[i-3,j] + int(phi[i,k]==phi[i-2,j])*phi[i-2,j] + int(phi[i,k]==phi[i-1,j])*phi[i-1,j] + int(phi[i,k]==phi[i-0,j])*phi[i,j] + int(phi[i,k]==phi[i+1,j])*phi[i+1,j] + int(phi[i,k]==phi[i+2,j])*phi[i+2,j] + int(phi[i,k]==phi[i+3,j])*phi[i+3,j] + int(phi[i,k]==phi[i+4,j])*phi[i+4,j]\n",
    "\n",
    "    phi_sum = np.divide(phi,phi_sum)\n",
    "    phi_sum[np.isnan(phi_sum)] = 0\n",
    "    phi_sum_max = np.amax(np.amax(phi_sum))\n",
    "    phi_sum = np.divide(phi_sum,phi_sum_max)\n",
    "\n",
    "    phi_sum_temp = phi_sum\n",
    "    cutoff = np.percentile(np.reshape(phi_sum_temp,[Nx*Ny,1]),99.97)\n",
    "    phi_sum[phi_sum<cutoff] = 0\n",
    "    phi_sum[phi_sum!=1] = 0  \n",
    "    out = tf.Variable(tf.zeros([Nx,Ny],tf.float64))\n",
    "    out.assign(phi_sum)\n",
    "    return out\n",
    "\n",
    "def highlightZone(tip):\n",
    "    [Max_y,Max_x] = np.where(tip==1)\n",
    "    size_Max = len(Max_x)\n",
    "    Nx, Ny = phi_plot.shape\n",
    "    tips = np.zeros([Nx,Ny])\n",
    "    temp = np.zeros([Nx,Ny])\n",
    "    for l in range(0,size_Max):\n",
    "        max_x = Max_x[l]\n",
    "        max_y = Max_y[l]\n",
    "        for i in range(max_y-2,max_y+2):\n",
    "            for j in range(max_x-2,max_x+2):\n",
    "                    temp[i,j] = 1\n",
    "        tips = tips+temp\n",
    "\n",
    "    tips[np.abs(tips)>0] = 1\n",
    "    return tips"
   ]
  },
  {
   "cell_type": "code",
   "execution_count": 7,
   "metadata": {},
   "outputs": [],
   "source": [
    "def sum_filter_python(phi):\n",
    "    [Nx,Ny] = tf.shape(phi)\n",
    "    phi = tf.math.round(phi)\n",
    "    phi_sum = tf.Variable(tf.zeros([Nx,Ny],tf.float32))\n",
    "    for i in range(5,Nx-4):\n",
    "        for k in range(5,Ny-4):\n",
    "            for j in range(k-4,k+4+1):\n",
    "                phi_sum[i,k].assign(tf.math.add(tf.cast(phi[i,k],tf.float32),tf.multiply(tf.cast(phi[i,k]==phi[i-4,j],tf.float32),phi[i-4,j])))\n",
    "\n",
    "    return phi_sum"
   ]
  },
  {
   "cell_type": "code",
   "execution_count": 30,
   "metadata": {},
   "outputs": [],
   "source": [
    "import scipy.io\n",
    "cm = scipy.io.loadmat('cm_20.mat')[\"cm\"][0]\n",
    "cm[\"NuNv\"][0] = cm[\"NuNv\"][0].todense()\n",
    "cm[\"N1uNv\"][0] = cm[\"N1uNv\"][0].todense()\n",
    "cm[\"NuN1v\"][0] = cm[\"NuN1v\"][0].todense()\n",
    "cm[\"N2uNv\"][0] = cm[\"N2uNv\"][0].todense()\n",
    "cm[\"NuN2v\"][0] = cm[\"NuN2v\"][0].todense()\n",
    "cm[\"N2uN2v\"][0] = cm[\"N2uN2v\"][0].todense()"
   ]
  },
  {
   "cell_type": "code",
   "execution_count": 31,
   "metadata": {},
   "outputs": [],
   "source": [
    "inp = layers.Input(shape=(None, *x_train.shape[2:]))\n",
    "\n",
    "drop_rate = 0.1\n",
    "x0 = layers.TimeDistributed(layers.Conv2D(\n",
    "    filters=32,\n",
    "    kernel_size=(5, 5),\n",
    "    strides = (2, 2),\n",
    "    padding=\"valid\",\n",
    "    activation=\"relu\",\n",
    "))(inp)\n",
    "x1 = layers.TimeDistributed(layers.Conv2DTranspose(\n",
    "    filters=1,\n",
    "    kernel_size=(6, 6),\n",
    "    strides = (2, 2),\n",
    "    padding=\"valid\",\n",
    "    activation=\"sigmoid\",\n",
    "))(x0)"
   ]
  },
  {
   "cell_type": "code",
   "execution_count": 39,
   "metadata": {},
   "outputs": [],
   "source": [
    "from keras import backend as K\n",
    "\n",
    "def PINN_loss(cm, inp):\n",
    "    def loss(y_true, y_pred):\n",
    "        NuNv = cm[\"NuNv\"][0]\n",
    "        N1uNv = cm[\"N1uNv\"][0]\n",
    "        NuN1v = cm[\"NuN1v\"][0]\n",
    "        N2uNv = cm[\"N2uNv\"][0]\n",
    "        NuN2v = cm[\"NuN2v\"][0]\n",
    "        N2uN2v = cm[\"N2uN2v\"][0]\n",
    "\n",
    "        # need to figure the correct dt, and T_pre\n",
    "        dt = 1\n",
    "        T_pre = tf.cast(K.reshape(y_pred[0,0,:,:,0], [y_pred.shape[2]*y_pred.shape[3],1]), dtype=tf.float64)\n",
    "        xtheta = tf.cast(K.reshape(y_pred[0,0,:,:,0], [y_pred.shape[2]*y_pred.shape[3],1]), dtype=tf.float64)\n",
    "        \n",
    "        phiK = tf.linalg.solve(NuNv,tf.cast(K.reshape(y_pred[0,0,:,:,0], [y_pred.shape[2]*y_pred.shape[3],1]), dtype=tf.float64))\n",
    "        # error when calling tf.linalg.solve the second time, suspecting memory related issue\n",
    "        phi = tf.linalg.solve(NuNv, tf.cast(K.reshape(inp[0,0,:,:,0], [y_pred.shape[2]*y_pred.shape[3],1]), dtype=tf.float64))\n",
    "        # phi = phiK\n",
    "\n",
    "        NNpk = tf.linalg.matmul(NuNv,phiK)\n",
    "        NNp = tf.linalg.matmul(NuNv,phi)\n",
    "\n",
    "        # Temperature calculation\n",
    "        T = (3*tf.linalg.matmul(N2uN2v,T_pre)+4*(NNpk - NNp)/dt + T_pre)*dt\n",
    "\n",
    "        # Energy calculation\n",
    "        E = 0.2865*tf.math.atan(10*(1-T))\n",
    "\n",
    "        # Tubulin\n",
    "\n",
    "        # a, aap\n",
    "        N1Np = tf.linalg.matmul(N1uNv,phi)\n",
    "        NN1p = tf.linalg.matmul(NuN1v,phi)\n",
    "        atheta = tf.math.atan2(NN1p,N1Np)\n",
    "        epsilon = 0.04*(1.0+0.1*tf.math.cos(6*(atheta-xtheta)))\n",
    "        epsilon_deriv = -0.04*(6*0.1*tf.math.sin(6*(atheta-xtheta)))\n",
    "        aap = tf.math.multiply(epsilon,epsilon_deriv)\n",
    "\n",
    "        # phi\n",
    "        # (phiK-phi)/dt = 60*()\n",
    "        residual = phiK\n",
    "        return residual\n",
    "    return loss"
   ]
  },
  {
   "cell_type": "code",
   "execution_count": 40,
   "metadata": {},
   "outputs": [
    {
     "name": "stdout",
     "output_type": "stream",
     "text": [
      "Model: \"model_6\"\n",
      "_________________________________________________________________\n",
      " Layer (type)                Output Shape              Param #   \n",
      "=================================================================\n",
      " input_3 (InputLayer)        [(None, None, 20, 20, 3)  0         \n",
      "                             ]                                   \n",
      "                                                                 \n",
      " time_distributed_4 (TimeDis  (None, None, 8, 8, 32)   2432      \n",
      " tributed)                                                       \n",
      "                                                                 \n",
      " time_distributed_5 (TimeDis  (None, None, 20, 20, 1)  1153      \n",
      " tributed)                                                       \n",
      "                                                                 \n",
      "=================================================================\n",
      "Total params: 3,585\n",
      "Trainable params: 3,585\n",
      "Non-trainable params: 0\n",
      "_________________________________________________________________\n",
      "None\n"
     ]
    }
   ],
   "source": [
    "model = keras.models.Model(inp, x1)\n",
    "model.compile(\n",
    "    # loss=keras.losses.MeanSquaredError(reduction=\"auto\", name=\"mean_squared_error\"),\n",
    "    loss=PINN_loss(cm, inp),\n",
    "    optimizer=keras.optimizers.Adam(learning_rate=1e-5))\n",
    "print(model.summary())"
   ]
  },
  {
   "cell_type": "code",
   "execution_count": 41,
   "metadata": {},
   "outputs": [],
   "source": [
    "class CustomSaver(keras.callbacks.Callback):\n",
    "    def on_epoch_end(self, epoch, logs={}):\n",
    "        if epoch == 2:  # or save after some epoch, each k-th epoch etc.\n",
    "            self.model.save(\"model_{}.hd5\".format(epoch))"
   ]
  },
  {
   "cell_type": "code",
   "execution_count": 42,
   "metadata": {
    "id": "X5Q7hmIAAsiX",
    "pycharm": {
     "name": "#%%\n"
    }
   },
   "outputs": [
    {
     "name": "stdout",
     "output_type": "stream",
     "text": [
      "Epoch 1/1000\n",
      "1/1 [==============================] - 1s 667ms/step - loss: 0.4999 - val_loss: 0.5000 - lr: 1.0000e-05\n",
      "Epoch 2/1000\n",
      "1/1 [==============================] - 0s 19ms/step - loss: 0.4999 - val_loss: 0.5000 - lr: 1.0000e-05\n",
      "Epoch 3/1000\n",
      "1/1 [==============================] - ETA: 0s - loss: 0.4999"
     ]
    },
    {
     "name": "stderr",
     "output_type": "stream",
     "text": [
      "WARNING:absl:Found untraced functions such as _jit_compiled_convolution_op, _jit_compiled_convolution_op while saving (showing 2 of 2). These functions will not be directly callable after loading.\n"
     ]
    },
    {
     "name": "stdout",
     "output_type": "stream",
     "text": [
      "INFO:tensorflow:Assets written to: model_2.hd5/assets\n"
     ]
    },
    {
     "name": "stderr",
     "output_type": "stream",
     "text": [
      "INFO:tensorflow:Assets written to: model_2.hd5/assets\n"
     ]
    },
    {
     "name": "stdout",
     "output_type": "stream",
     "text": [
      "1/1 [==============================] - 0s 453ms/step - loss: 0.4999 - val_loss: 0.5000 - lr: 1.0000e-05\n",
      "Epoch 4/1000\n",
      "1/1 [==============================] - 0s 22ms/step - loss: 0.4999 - val_loss: 0.5000 - lr: 1.0000e-05\n",
      "Epoch 5/1000\n",
      "1/1 [==============================] - 0s 20ms/step - loss: 0.4999 - val_loss: 0.5000 - lr: 1.0000e-05\n",
      "Epoch 6/1000\n",
      "1/1 [==============================] - 0s 20ms/step - loss: 0.4999 - val_loss: 0.4999 - lr: 1.0000e-05\n",
      "Epoch 7/1000\n",
      "1/1 [==============================] - 0s 20ms/step - loss: 0.4998 - val_loss: 0.4999 - lr: 1.0000e-05\n",
      "Epoch 8/1000\n",
      "1/1 [==============================] - 0s 21ms/step - loss: 0.4998 - val_loss: 0.4999 - lr: 1.0000e-05\n",
      "Epoch 9/1000\n",
      "1/1 [==============================] - 0s 21ms/step - loss: 0.4998 - val_loss: 0.4999 - lr: 1.0000e-05\n",
      "Epoch 10/1000\n",
      "1/1 [==============================] - 0s 19ms/step - loss: 0.4998 - val_loss: 0.4999 - lr: 1.0000e-05\n",
      "Epoch 11/1000\n",
      "1/1 [==============================] - 0s 19ms/step - loss: 0.4998 - val_loss: 0.4999 - lr: 1.0000e-05\n",
      "Epoch 12/1000\n",
      "1/1 [==============================] - 0s 20ms/step - loss: 0.4998 - val_loss: 0.4999 - lr: 1.0000e-05\n",
      "Epoch 13/1000\n",
      "1/1 [==============================] - 0s 19ms/step - loss: 0.4998 - val_loss: 0.4999 - lr: 1.0000e-05\n",
      "Epoch 14/1000\n",
      "1/1 [==============================] - 0s 19ms/step - loss: 0.4998 - val_loss: 0.4998 - lr: 1.0000e-05\n",
      "Epoch 15/1000\n",
      "1/1 [==============================] - 0s 19ms/step - loss: 0.4998 - val_loss: 0.4998 - lr: 1.0000e-05\n",
      "Epoch 16/1000\n",
      "1/1 [==============================] - 0s 18ms/step - loss: 0.4997 - val_loss: 0.4998 - lr: 1.0000e-05\n",
      "Epoch 17/1000\n",
      "1/1 [==============================] - 0s 18ms/step - loss: 0.4997 - val_loss: 0.4998 - lr: 1.0000e-05\n",
      "Epoch 18/1000\n",
      "1/1 [==============================] - 0s 19ms/step - loss: 0.4997 - val_loss: 0.4998 - lr: 1.0000e-05\n",
      "Epoch 19/1000\n",
      "1/1 [==============================] - 0s 18ms/step - loss: 0.4997 - val_loss: 0.4998 - lr: 1.0000e-05\n",
      "Epoch 20/1000\n",
      "1/1 [==============================] - 0s 18ms/step - loss: 0.4997 - val_loss: 0.4998 - lr: 1.0000e-05\n",
      "Epoch 21/1000\n",
      "1/1 [==============================] - 0s 18ms/step - loss: 0.4997 - val_loss: 0.4998 - lr: 1.0000e-05\n",
      "Epoch 22/1000\n",
      "1/1 [==============================] - 0s 18ms/step - loss: 0.4997 - val_loss: 0.4998 - lr: 1.0000e-05\n",
      "Epoch 23/1000\n",
      "1/1 [==============================] - 0s 18ms/step - loss: 0.4997 - val_loss: 0.4997 - lr: 1.0000e-05\n",
      "Epoch 24/1000\n",
      "1/1 [==============================] - 0s 19ms/step - loss: 0.4997 - val_loss: 0.4997 - lr: 1.0000e-05\n",
      "Epoch 25/1000\n",
      "1/1 [==============================] - 0s 19ms/step - loss: 0.4996 - val_loss: 0.4997 - lr: 1.0000e-05\n",
      "Epoch 26/1000\n",
      "1/1 [==============================] - 0s 19ms/step - loss: 0.4996 - val_loss: 0.4997 - lr: 1.0000e-05\n",
      "Epoch 27/1000\n",
      "1/1 [==============================] - 0s 18ms/step - loss: 0.4996 - val_loss: 0.4997 - lr: 1.0000e-05\n",
      "Epoch 28/1000\n",
      "1/1 [==============================] - 0s 19ms/step - loss: 0.4996 - val_loss: 0.4997 - lr: 1.0000e-05\n",
      "Epoch 29/1000\n",
      "1/1 [==============================] - 0s 19ms/step - loss: 0.4996 - val_loss: 0.4997 - lr: 1.0000e-05\n",
      "Epoch 30/1000\n",
      "1/1 [==============================] - 0s 19ms/step - loss: 0.4996 - val_loss: 0.4997 - lr: 1.0000e-05\n",
      "Epoch 31/1000\n",
      "1/1 [==============================] - 0s 19ms/step - loss: 0.4996 - val_loss: 0.4997 - lr: 1.0000e-05\n",
      "Epoch 32/1000\n",
      "1/1 [==============================] - 0s 19ms/step - loss: 0.4996 - val_loss: 0.4996 - lr: 1.0000e-05\n",
      "Epoch 33/1000\n",
      "1/1 [==============================] - 0s 19ms/step - loss: 0.4996 - val_loss: 0.4996 - lr: 1.0000e-05\n",
      "Epoch 34/1000\n",
      "1/1 [==============================] - 0s 19ms/step - loss: 0.4996 - val_loss: 0.4996 - lr: 1.0000e-05\n",
      "Epoch 35/1000\n",
      "1/1 [==============================] - 0s 21ms/step - loss: 0.4995 - val_loss: 0.4996 - lr: 1.0000e-05\n",
      "Epoch 36/1000\n",
      "1/1 [==============================] - 0s 18ms/step - loss: 0.4995 - val_loss: 0.4996 - lr: 1.0000e-05\n",
      "Epoch 37/1000\n",
      "1/1 [==============================] - 0s 19ms/step - loss: 0.4995 - val_loss: 0.4996 - lr: 1.0000e-05\n",
      "Epoch 38/1000\n",
      "1/1 [==============================] - 0s 18ms/step - loss: 0.4995 - val_loss: 0.4996 - lr: 1.0000e-05\n",
      "Epoch 39/1000\n",
      "1/1 [==============================] - 0s 18ms/step - loss: 0.4995 - val_loss: 0.4996 - lr: 1.0000e-05\n",
      "Epoch 40/1000\n",
      "1/1 [==============================] - 0s 19ms/step - loss: 0.4995 - val_loss: 0.4996 - lr: 1.0000e-05\n",
      "Epoch 41/1000\n",
      "1/1 [==============================] - 0s 19ms/step - loss: 0.4995 - val_loss: 0.4995 - lr: 1.0000e-05\n",
      "Epoch 42/1000\n",
      "1/1 [==============================] - 0s 19ms/step - loss: 0.4995 - val_loss: 0.4995 - lr: 1.0000e-05\n",
      "Epoch 43/1000\n",
      "1/1 [==============================] - 0s 19ms/step - loss: 0.4995 - val_loss: 0.4995 - lr: 1.0000e-05\n",
      "Epoch 44/1000\n",
      "1/1 [==============================] - 0s 19ms/step - loss: 0.4994 - val_loss: 0.4995 - lr: 1.0000e-05\n",
      "Epoch 45/1000\n",
      "1/1 [==============================] - 0s 19ms/step - loss: 0.4994 - val_loss: 0.4995 - lr: 1.0000e-05\n",
      "Epoch 46/1000\n",
      "1/1 [==============================] - 0s 19ms/step - loss: 0.4994 - val_loss: 0.4995 - lr: 1.0000e-05\n",
      "Epoch 47/1000\n",
      "1/1 [==============================] - 0s 19ms/step - loss: 0.4994 - val_loss: 0.4995 - lr: 1.0000e-05\n",
      "Epoch 48/1000\n",
      "1/1 [==============================] - 0s 19ms/step - loss: 0.4994 - val_loss: 0.4995 - lr: 1.0000e-05\n",
      "Epoch 49/1000\n",
      "1/1 [==============================] - 0s 19ms/step - loss: 0.4994 - val_loss: 0.4994 - lr: 1.0000e-05\n",
      "Epoch 50/1000\n",
      "1/1 [==============================] - 0s 18ms/step - loss: 0.4994 - val_loss: 0.4994 - lr: 1.0000e-05\n",
      "Epoch 51/1000\n",
      "1/1 [==============================] - 0s 19ms/step - loss: 0.4994 - val_loss: 0.4994 - lr: 1.0000e-05\n",
      "Epoch 52/1000\n",
      "1/1 [==============================] - 0s 19ms/step - loss: 0.4994 - val_loss: 0.4994 - lr: 1.0000e-05\n",
      "Epoch 53/1000\n",
      "1/1 [==============================] - 0s 19ms/step - loss: 0.4993 - val_loss: 0.4994 - lr: 1.0000e-05\n",
      "Epoch 54/1000\n",
      "1/1 [==============================] - 0s 20ms/step - loss: 0.4993 - val_loss: 0.4994 - lr: 1.0000e-05\n",
      "Epoch 55/1000\n",
      "1/1 [==============================] - 0s 18ms/step - loss: 0.4993 - val_loss: 0.4994 - lr: 1.0000e-05\n",
      "Epoch 56/1000\n",
      "1/1 [==============================] - 0s 19ms/step - loss: 0.4993 - val_loss: 0.4994 - lr: 1.0000e-05\n",
      "Epoch 57/1000\n",
      "1/1 [==============================] - 0s 19ms/step - loss: 0.4993 - val_loss: 0.4994 - lr: 1.0000e-05\n",
      "Epoch 58/1000\n",
      "1/1 [==============================] - 0s 18ms/step - loss: 0.4993 - val_loss: 0.4993 - lr: 1.0000e-05\n",
      "Epoch 59/1000\n",
      "1/1 [==============================] - 0s 18ms/step - loss: 0.4993 - val_loss: 0.4993 - lr: 1.0000e-05\n",
      "Epoch 60/1000\n",
      "1/1 [==============================] - 0s 18ms/step - loss: 0.4993 - val_loss: 0.4993 - lr: 1.0000e-05\n",
      "Epoch 61/1000\n",
      "1/1 [==============================] - 0s 18ms/step - loss: 0.4993 - val_loss: 0.4993 - lr: 1.0000e-05\n",
      "Epoch 62/1000\n",
      "1/1 [==============================] - 0s 18ms/step - loss: 0.4992 - val_loss: 0.4993 - lr: 1.0000e-05\n",
      "Epoch 63/1000\n",
      "1/1 [==============================] - 0s 18ms/step - loss: 0.4992 - val_loss: 0.4993 - lr: 1.0000e-05\n",
      "Epoch 64/1000\n",
      "1/1 [==============================] - 0s 18ms/step - loss: 0.4992 - val_loss: 0.4993 - lr: 1.0000e-05\n",
      "Epoch 65/1000\n",
      "1/1 [==============================] - ETA: 0s - loss: 0.4992"
     ]
    },
    {
     "ename": "KeyboardInterrupt",
     "evalue": "",
     "output_type": "error",
     "traceback": [
      "\u001b[0;31m---------------------------------------------------------------------------\u001b[0m",
      "\u001b[0;31mKeyboardInterrupt\u001b[0m                         Traceback (most recent call last)",
      "\u001b[1;32m/home/kuanrenqian/Documents/Data_generation_for_conv2DLSTM/tensorflow_version/NeuronGrowthML_main_test.ipynb Cell 16'\u001b[0m in \u001b[0;36m<cell line: 3>\u001b[0;34m()\u001b[0m\n\u001b[1;32m     <a href='vscode-notebook-cell://ssh-remote%2B172.31.56.86/home/kuanrenqian/Documents/Data_generation_for_conv2DLSTM/tensorflow_version/NeuronGrowthML_main_test.ipynb#ch0000015vscode-remote?line=10'>11</a>\u001b[0m saver \u001b[39m=\u001b[39m CustomSaver()\n\u001b[1;32m     <a href='vscode-notebook-cell://ssh-remote%2B172.31.56.86/home/kuanrenqian/Documents/Data_generation_for_conv2DLSTM/tensorflow_version/NeuronGrowthML_main_test.ipynb#ch0000015vscode-remote?line=12'>13</a>\u001b[0m \u001b[39mwith\u001b[39;00m tf\u001b[39m.\u001b[39mdevice(\u001b[39m'\u001b[39m\u001b[39m/device:GPU:0\u001b[39m\u001b[39m'\u001b[39m):\n\u001b[0;32m---> <a href='vscode-notebook-cell://ssh-remote%2B172.31.56.86/home/kuanrenqian/Documents/Data_generation_for_conv2DLSTM/tensorflow_version/NeuronGrowthML_main_test.ipynb#ch0000015vscode-remote?line=13'>14</a>\u001b[0m     model\u001b[39m.\u001b[39;49mfit(\n\u001b[1;32m     <a href='vscode-notebook-cell://ssh-remote%2B172.31.56.86/home/kuanrenqian/Documents/Data_generation_for_conv2DLSTM/tensorflow_version/NeuronGrowthML_main_test.ipynb#ch0000015vscode-remote?line=14'>15</a>\u001b[0m         x_train,\n\u001b[1;32m     <a href='vscode-notebook-cell://ssh-remote%2B172.31.56.86/home/kuanrenqian/Documents/Data_generation_for_conv2DLSTM/tensorflow_version/NeuronGrowthML_main_test.ipynb#ch0000015vscode-remote?line=15'>16</a>\u001b[0m         y_train,\n\u001b[1;32m     <a href='vscode-notebook-cell://ssh-remote%2B172.31.56.86/home/kuanrenqian/Documents/Data_generation_for_conv2DLSTM/tensorflow_version/NeuronGrowthML_main_test.ipynb#ch0000015vscode-remote?line=16'>17</a>\u001b[0m         batch_size\u001b[39m=\u001b[39;49mbatch_size,\n\u001b[1;32m     <a href='vscode-notebook-cell://ssh-remote%2B172.31.56.86/home/kuanrenqian/Documents/Data_generation_for_conv2DLSTM/tensorflow_version/NeuronGrowthML_main_test.ipynb#ch0000015vscode-remote?line=17'>18</a>\u001b[0m         epochs\u001b[39m=\u001b[39;49mepochs,\n\u001b[1;32m     <a href='vscode-notebook-cell://ssh-remote%2B172.31.56.86/home/kuanrenqian/Documents/Data_generation_for_conv2DLSTM/tensorflow_version/NeuronGrowthML_main_test.ipynb#ch0000015vscode-remote?line=18'>19</a>\u001b[0m         validation_data\u001b[39m=\u001b[39;49m(x_val, y_val),\n\u001b[1;32m     <a href='vscode-notebook-cell://ssh-remote%2B172.31.56.86/home/kuanrenqian/Documents/Data_generation_for_conv2DLSTM/tensorflow_version/NeuronGrowthML_main_test.ipynb#ch0000015vscode-remote?line=19'>20</a>\u001b[0m         callbacks\u001b[39m=\u001b[39;49m[saver,early_stopping, reduce_lr],\n\u001b[1;32m     <a href='vscode-notebook-cell://ssh-remote%2B172.31.56.86/home/kuanrenqian/Documents/Data_generation_for_conv2DLSTM/tensorflow_version/NeuronGrowthML_main_test.ipynb#ch0000015vscode-remote?line=20'>21</a>\u001b[0m     )\n\u001b[1;32m     <a href='vscode-notebook-cell://ssh-remote%2B172.31.56.86/home/kuanrenqian/Documents/Data_generation_for_conv2DLSTM/tensorflow_version/NeuronGrowthML_main_test.ipynb#ch0000015vscode-remote?line=21'>22</a>\u001b[0m     model\u001b[39m.\u001b[39mrun_eagerly \u001b[39m=\u001b[39m \u001b[39mTrue\u001b[39;00m\n\u001b[1;32m     <a href='vscode-notebook-cell://ssh-remote%2B172.31.56.86/home/kuanrenqian/Documents/Data_generation_for_conv2DLSTM/tensorflow_version/NeuronGrowthML_main_test.ipynb#ch0000015vscode-remote?line=23'>24</a>\u001b[0m model\u001b[39m.\u001b[39msave(\u001b[39m'\u001b[39m\u001b[39m./saved_model/model_conv_lstm_test\u001b[39m\u001b[39m'\u001b[39m)\n",
      "File \u001b[0;32m~/anaconda3/envs/tf/lib/python3.9/site-packages/keras/utils/traceback_utils.py:64\u001b[0m, in \u001b[0;36mfilter_traceback.<locals>.error_handler\u001b[0;34m(*args, **kwargs)\u001b[0m\n\u001b[1;32m     62\u001b[0m filtered_tb \u001b[39m=\u001b[39m \u001b[39mNone\u001b[39;00m\n\u001b[1;32m     63\u001b[0m \u001b[39mtry\u001b[39;00m:\n\u001b[0;32m---> 64\u001b[0m   \u001b[39mreturn\u001b[39;00m fn(\u001b[39m*\u001b[39;49margs, \u001b[39m*\u001b[39;49m\u001b[39m*\u001b[39;49mkwargs)\n\u001b[1;32m     65\u001b[0m \u001b[39mexcept\u001b[39;00m \u001b[39mException\u001b[39;00m \u001b[39mas\u001b[39;00m e:  \u001b[39m# pylint: disable=broad-except\u001b[39;00m\n\u001b[1;32m     66\u001b[0m   filtered_tb \u001b[39m=\u001b[39m _process_traceback_frames(e\u001b[39m.\u001b[39m__traceback__)\n",
      "File \u001b[0;32m~/anaconda3/envs/tf/lib/python3.9/site-packages/keras/engine/training.py:1445\u001b[0m, in \u001b[0;36mModel.fit\u001b[0;34m(self, x, y, batch_size, epochs, verbose, callbacks, validation_split, validation_data, shuffle, class_weight, sample_weight, initial_epoch, steps_per_epoch, validation_steps, validation_batch_size, validation_freq, max_queue_size, workers, use_multiprocessing)\u001b[0m\n\u001b[1;32m   1431\u001b[0m \u001b[39mif\u001b[39;00m \u001b[39mgetattr\u001b[39m(\u001b[39mself\u001b[39m, \u001b[39m'\u001b[39m\u001b[39m_eval_data_handler\u001b[39m\u001b[39m'\u001b[39m, \u001b[39mNone\u001b[39;00m) \u001b[39mis\u001b[39;00m \u001b[39mNone\u001b[39;00m:\n\u001b[1;32m   1432\u001b[0m   \u001b[39mself\u001b[39m\u001b[39m.\u001b[39m_eval_data_handler \u001b[39m=\u001b[39m data_adapter\u001b[39m.\u001b[39mget_data_handler(\n\u001b[1;32m   1433\u001b[0m       x\u001b[39m=\u001b[39mval_x,\n\u001b[1;32m   1434\u001b[0m       y\u001b[39m=\u001b[39mval_y,\n\u001b[0;32m   (...)\u001b[0m\n\u001b[1;32m   1443\u001b[0m       model\u001b[39m=\u001b[39m\u001b[39mself\u001b[39m,\n\u001b[1;32m   1444\u001b[0m       steps_per_execution\u001b[39m=\u001b[39m\u001b[39mself\u001b[39m\u001b[39m.\u001b[39m_steps_per_execution)\n\u001b[0;32m-> 1445\u001b[0m val_logs \u001b[39m=\u001b[39m \u001b[39mself\u001b[39;49m\u001b[39m.\u001b[39;49mevaluate(\n\u001b[1;32m   1446\u001b[0m     x\u001b[39m=\u001b[39;49mval_x,\n\u001b[1;32m   1447\u001b[0m     y\u001b[39m=\u001b[39;49mval_y,\n\u001b[1;32m   1448\u001b[0m     sample_weight\u001b[39m=\u001b[39;49mval_sample_weight,\n\u001b[1;32m   1449\u001b[0m     batch_size\u001b[39m=\u001b[39;49mvalidation_batch_size \u001b[39mor\u001b[39;49;00m batch_size,\n\u001b[1;32m   1450\u001b[0m     steps\u001b[39m=\u001b[39;49mvalidation_steps,\n\u001b[1;32m   1451\u001b[0m     callbacks\u001b[39m=\u001b[39;49mcallbacks,\n\u001b[1;32m   1452\u001b[0m     max_queue_size\u001b[39m=\u001b[39;49mmax_queue_size,\n\u001b[1;32m   1453\u001b[0m     workers\u001b[39m=\u001b[39;49mworkers,\n\u001b[1;32m   1454\u001b[0m     use_multiprocessing\u001b[39m=\u001b[39;49muse_multiprocessing,\n\u001b[1;32m   1455\u001b[0m     return_dict\u001b[39m=\u001b[39;49m\u001b[39mTrue\u001b[39;49;00m,\n\u001b[1;32m   1456\u001b[0m     _use_cached_eval_dataset\u001b[39m=\u001b[39;49m\u001b[39mTrue\u001b[39;49;00m)\n\u001b[1;32m   1457\u001b[0m val_logs \u001b[39m=\u001b[39m {\u001b[39m'\u001b[39m\u001b[39mval_\u001b[39m\u001b[39m'\u001b[39m \u001b[39m+\u001b[39m name: val \u001b[39mfor\u001b[39;00m name, val \u001b[39min\u001b[39;00m val_logs\u001b[39m.\u001b[39mitems()}\n\u001b[1;32m   1458\u001b[0m epoch_logs\u001b[39m.\u001b[39mupdate(val_logs)\n",
      "File \u001b[0;32m~/anaconda3/envs/tf/lib/python3.9/site-packages/keras/utils/traceback_utils.py:64\u001b[0m, in \u001b[0;36mfilter_traceback.<locals>.error_handler\u001b[0;34m(*args, **kwargs)\u001b[0m\n\u001b[1;32m     62\u001b[0m filtered_tb \u001b[39m=\u001b[39m \u001b[39mNone\u001b[39;00m\n\u001b[1;32m     63\u001b[0m \u001b[39mtry\u001b[39;00m:\n\u001b[0;32m---> 64\u001b[0m   \u001b[39mreturn\u001b[39;00m fn(\u001b[39m*\u001b[39;49margs, \u001b[39m*\u001b[39;49m\u001b[39m*\u001b[39;49mkwargs)\n\u001b[1;32m     65\u001b[0m \u001b[39mexcept\u001b[39;00m \u001b[39mException\u001b[39;00m \u001b[39mas\u001b[39;00m e:  \u001b[39m# pylint: disable=broad-except\u001b[39;00m\n\u001b[1;32m     66\u001b[0m   filtered_tb \u001b[39m=\u001b[39m _process_traceback_frames(e\u001b[39m.\u001b[39m__traceback__)\n",
      "\u001b[0;31mKeyboardInterrupt\u001b[0m: "
     ]
    }
   ],
   "source": [
    "test = False\n",
    "\n",
    "if test == True:\n",
    "    model = keras.models.load_model('./saved_model/model_conv_lstm_test')\n",
    "else: \n",
    "    early_stopping = keras.callbacks.EarlyStopping(monitor=\"val_loss\", patience=20)\n",
    "    reduce_lr = keras.callbacks.ReduceLROnPlateau(monitor=\"val_loss\", patience=10)\n",
    "\n",
    "    epochs = 1000\n",
    "    batch_size = 1\n",
    "    saver = CustomSaver()\n",
    "\n",
    "    with tf.device('/device:GPU:0'):\n",
    "        model.fit(\n",
    "            x_train,\n",
    "            y_train,\n",
    "            batch_size=batch_size,\n",
    "            epochs=epochs,\n",
    "            validation_data=(x_val, y_val),\n",
    "            callbacks=[saver,early_stopping, reduce_lr],\n",
    "        )\n",
    "        model.run_eagerly = True\n",
    "\n",
    "    model.save('./saved_model/model_conv_lstm_test') "
   ]
  },
  {
   "cell_type": "code",
   "execution_count": null,
   "metadata": {},
   "outputs": [],
   "source": [
    "def create_shifted_frames_3to1(data):\n",
    "    x1 = np.expand_dims(data[:, 1 : data.shape[1] - 3, :, :, 0]+data[:, 1 : data.shape[1] - 3, :, :, 1],4)\n",
    "    x2 = np.expand_dims(data[:, 2 : data.shape[1] - 2, :, :, 0]+data[:, 2 : data.shape[1] - 2, :, :, 1],4)\n",
    "    x3 = np.expand_dims(data[:, 3 : data.shape[1] - 1, :, :, 0]+data[:, 3 : data.shape[1] - 1, :, :, 1],4)\n",
    "    x = np.concatenate((x1,x2,x3), axis=4)\n",
    "    y = data[:, 4 : data.shape[1], :, :, 0]\n",
    "    y = np.expand_dims(y,4)\n",
    "    tips = data[:, 4 : data.shape[1], :, :, 1]\n",
    "    tips = np.expand_dims(tips,4)\n",
    "    return x,y,tips\n",
    "\n",
    "x_val, y_val, tips_val = create_shifted_frames_3to1(val_dataset)"
   ]
  },
  {
   "cell_type": "code",
   "execution_count": null,
   "metadata": {},
   "outputs": [],
   "source": [
    "def push(input, cutoff):\n",
    "    max_input = np.amax(input)\n",
    "    input[input>cutoff*max_input] = 1\n",
    "    input[input<=cutoff*max_input] = 0\n",
    "    return input"
   ]
  },
  {
   "cell_type": "code",
   "execution_count": null,
   "metadata": {
    "id": "7epqfYPzAsiY",
    "pycharm": {
     "name": "#%%\n"
    }
   },
   "outputs": [],
   "source": [
    "import matlab.engine\n",
    "eng = matlab.engine.start_matlab()\n",
    "model = keras.models.load_model('./saved_model/model_conv_lstm', compile=False)\n",
    "model.compile(loss=mreloss)\n",
    "\n",
    "rand_case = np.random.randint((len(val_dataset)))\n",
    "\n",
    "example_x = x_val[rand_case,...]\n",
    "example_y = y_val[rand_case,...]\n",
    "example_tips = tips_val[rand_case,...]\n",
    "\n",
    "plt.figure(figsize=(16, 4), dpi=60)\n",
    "plt.subplot(1,3,1)\n",
    "plt.imshow(example_x[0,:,:,0], cmap='jet')\n",
    "plt.title('Ground truth at frame 0')\n",
    "\n",
    "plt.subplot(1,3,2)\n",
    "plt.imshow(example_x[0,:,:,1], cmap='jet')\n",
    "plt.title('Ground truth at frame 0')\n",
    "\n",
    "plt.subplot(1,3,3)\n",
    "plt.imshow(example_x[0,:,:,2], cmap='jet')\n",
    "plt.title('Ground truth at frame 0')\n",
    "plt.show()\n",
    "\n",
    "x_in = np.expand_dims(np.expand_dims(example_x[0,...],axis=0),axis=0)\n",
    "\n",
    "for i in range(example_x.shape[0]-3):\n",
    "    # model = keras.models.load_model('./saved_model/model_conv_lstm')\n",
    "    new_prediction = model.predict(x_in,verbose=\"0\")\n",
    "    # keras.backend.clear_session()\n",
    "    temp = np.zeros([1,1,100,100,3])\n",
    "\n",
    "    tips = np.round(eng.generate_tips_for_python(matlab.double(np.array(new_prediction[0,0,:,:,0]).astype('float64')),5000))\n",
    "    # model = keras.models.load_model('./saved_model/model_tipsCNN_predBased_mre', compile=False)\n",
    "    # model.compile(loss=mreloss)\n",
    "    # tips = push(model.predict(np.expand_dims(np.expand_dims(new_prediction[0,0,:,:,0],axis=0),axis=3),verbose=\"0\"),0.5)\n",
    "    # keras.backend.clear_session()\n",
    "    # tips = np.round(example_tips[i,:,:,0])\n",
    "\n",
    "    temp[0,0,:,:,0] = x_in[0,0,:,:,1]\n",
    "    temp[0,0,:,:,1] = x_in[0,0,:,:,2]\n",
    "    # temp[0,0,:,:,2] = np.round(new_prediction[0,0,:,:,0])+tips[0,:,:,0]\n",
    "    temp[0,0,:,:,2] = np.round(new_prediction[0,0,:,:,0])+tips\n",
    "    x_in = temp\n",
    "\n",
    "    mre = np.sqrt(np.sum(np.square(new_prediction[0,0,:,:,0]-example_y[i,:,:,0])/(new_prediction.shape[2]*new_prediction.shape[3])))\n",
    "\n",
    "    plt.figure(figsize=(16, 4), dpi=60)\n",
    "\n",
    "    plt.subplot(1,4,1)\n",
    "    plt.imshow(new_prediction[0,0,:,:,0], cmap='jet')\n",
    "    plt.colorbar()\n",
    "    plt.title('Prediction at frame %d'%(i+3))\n",
    "\n",
    "    plt.subplot(1,4,2)\n",
    "    plt.imshow(tips, cmap='jet')\n",
    "    plt.colorbar()\n",
    "    plt.title('Detected tips at frame %d'%(i+3))\n",
    "\n",
    "    plt.subplot(1,4,3)\n",
    "    plt.imshow(example_y[i,:,:,0], cmap='jet')\n",
    "    plt.colorbar()\n",
    "    plt.title('Ground truth at frame %d'%(i+3))\n",
    "\n",
    "    plt.subplot(1,4,4)\n",
    "    plt.imshow(new_prediction[0,0,:,:,0]-example_y[i,:,:,0], cmap='jet')\n",
    "    plt.colorbar()\n",
    "    plt.title('Absolute error at frame %d'%(i+3))\n",
    "    plt.xlabel('Mean relative error: %f'%mre)\n",
    "\n",
    "    plt.show()\n",
    "\n",
    "# eng.quit()\n"
   ]
  },
  {
   "cell_type": "code",
   "execution_count": null,
   "metadata": {},
   "outputs": [],
   "source": [
    "import matlab.engine\n",
    "from tqdm import tqdm\n",
    "eng = matlab.engine.start_matlab()\n",
    "\n",
    "mre = []\n",
    "for rand_case in tqdm (range(len(val_dataset)), desc=\"Running ...\"):\n",
    "    example_x = x_val[rand_case,...]\n",
    "    example_y = y_val[rand_case,...]\n",
    "    x_in = np.expand_dims(np.expand_dims(example_x[0,...],axis=0),axis=0)\n",
    "\n",
    "    for i in range(example_x.shape[0]-3):\n",
    "\n",
    "        new_prediction = model.predict(x_in, verbose=\"0\")\n",
    "        temp = np.zeros([1,1,100,100,3])\n",
    "\n",
    "        # tips = np.round(eng.generate_tips_for_python(matlab.double(np.array(new_prediction[0,0,:,:,0]).astype('float64')),5000))\n",
    "        tips = np.round(example_tips[i,:,:,0])\n",
    "        temp[0,0,:,:,0] = x_in[0,0,:,:,1]\n",
    "        temp[0,0,:,:,1] = x_in[0,0,:,:,2]\n",
    "        temp[0,0,:,:,2] = np.round(new_prediction[0,0,:,:,0])+tips\n",
    "\n",
    "        x_in = temp\n",
    "\n",
    "        mre.append(np.sqrt(np.sum(np.square(new_prediction[0,0,:,:,0]-example_y[i,:,:,0])/(new_prediction.shape[2]*new_prediction.shape[3]))))\n",
    "\n",
    "print(sum(mre) / len(mre))\n",
    "eng.quit()\n"
   ]
  },
  {
   "cell_type": "code",
   "execution_count": null,
   "metadata": {},
   "outputs": [],
   "source": []
  }
 ],
 "metadata": {
  "colab": {
   "collapsed_sections": [],
   "name": "conv_lstm",
   "provenance": [],
   "toc_visible": true
  },
  "kernelspec": {
   "display_name": "Python 3.9.0 ('tf')",
   "language": "python",
   "name": "python3"
  },
  "language_info": {
   "codemirror_mode": {
    "name": "ipython",
    "version": 3
   },
   "file_extension": ".py",
   "mimetype": "text/x-python",
   "name": "python",
   "nbconvert_exporter": "python",
   "pygments_lexer": "ipython3",
   "version": "3.9.0"
  },
  "vscode": {
   "interpreter": {
    "hash": "3ef443919b3ee49497caa0ae1c9dcd325c651b678aa5033135de9f40fcfd4216"
   }
  }
 },
 "nbformat": 4,
 "nbformat_minor": 1
}
