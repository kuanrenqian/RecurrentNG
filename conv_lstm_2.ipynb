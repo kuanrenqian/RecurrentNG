{
 "cells": [
  {
   "cell_type": "markdown",
   "metadata": {
    "id": "Cx5NfwDpAsiR",
    "pycharm": {
     "name": "#%% md\n"
    }
   },
   "source": [
    "# Next-Frame Video Prediction with Convolutional LSTMs\n",
    "\n",
    "**Author:** [Amogh Joshi](https://github.com/amogh7joshi)<br>\n",
    "**Date created:** 2021/06/02<br>\n",
    "**Last modified:** 2021/06/05<br>\n",
    "**Description:** How to build and train a convolutional LSTM model for next-frame video prediction."
   ]
  },
  {
   "cell_type": "markdown",
   "metadata": {
    "id": "MHE32z49AsiT",
    "pycharm": {
     "name": "#%% md\n"
    }
   },
   "source": [
    "## Introduction\n",
    "\n",
    "The\n",
    "[Convolutional LSTM](https://papers.nips.cc/paper/2015/file/07563a3fe3bbe7e3ba84431ad9d055af-Paper.pdf)\n",
    "architectures bring together time series processing and computer vision by\n",
    "introducing a convolutional recurrent cell in a LSTM layer. In this example, we will explore the\n",
    "Convolutional LSTM model in an application to next-frame prediction, the process\n",
    "of predicting what video frames come next given a series of past frames."
   ]
  },
  {
   "cell_type": "markdown",
   "metadata": {
    "id": "bzy8U86GAsiT",
    "pycharm": {
     "name": "#%% md\n"
    }
   },
   "source": [
    "## Setup"
   ]
  },
  {
   "cell_type": "code",
   "execution_count": 1,
   "metadata": {
    "id": "5kPSC78hAsiU",
    "pycharm": {
     "name": "#%%\n"
    }
   },
   "outputs": [],
   "source": [
    "import numpy as np\n",
    "import matplotlib.pyplot as plt\n",
    "\n",
    "import tensorflow as tf\n",
    "from tensorflow import keras\n",
    "from tensorflow.keras import layers\n",
    "\n",
    "import io\n",
    "import imageio\n",
    "from IPython.display import Image, display\n",
    "from ipywidgets import widgets, Layout, HBox"
   ]
  },
  {
   "cell_type": "code",
   "execution_count": 2,
   "metadata": {},
   "outputs": [
    {
     "name": "stderr",
     "output_type": "stream",
     "text": [
      "2022-05-27 12:27:23.294889: I tensorflow/core/platform/cpu_feature_guard.cc:151] This TensorFlow binary is optimized with oneAPI Deep Neural Network Library (oneDNN) to use the following CPU instructions in performance-critical operations:  AVX2 FMA\n",
      "To enable them in other operations, rebuild TensorFlow with the appropriate compiler flags.\n",
      "2022-05-27 12:27:23.318237: I tensorflow/stream_executor/cuda/cuda_gpu_executor.cc:936] successful NUMA node read from SysFS had negative value (-1), but there must be at least one NUMA node, so returning NUMA node zero\n",
      "2022-05-27 12:27:23.344828: I tensorflow/stream_executor/cuda/cuda_gpu_executor.cc:936] successful NUMA node read from SysFS had negative value (-1), but there must be at least one NUMA node, so returning NUMA node zero\n",
      "2022-05-27 12:27:23.344985: I tensorflow/stream_executor/cuda/cuda_gpu_executor.cc:936] successful NUMA node read from SysFS had negative value (-1), but there must be at least one NUMA node, so returning NUMA node zero\n",
      "2022-05-27 12:27:23.704935: I tensorflow/stream_executor/cuda/cuda_gpu_executor.cc:936] successful NUMA node read from SysFS had negative value (-1), but there must be at least one NUMA node, so returning NUMA node zero\n",
      "2022-05-27 12:27:23.705080: I tensorflow/stream_executor/cuda/cuda_gpu_executor.cc:936] successful NUMA node read from SysFS had negative value (-1), but there must be at least one NUMA node, so returning NUMA node zero\n",
      "2022-05-27 12:27:23.705189: I tensorflow/stream_executor/cuda/cuda_gpu_executor.cc:936] successful NUMA node read from SysFS had negative value (-1), but there must be at least one NUMA node, so returning NUMA node zero\n",
      "2022-05-27 12:27:23.705288: I tensorflow/core/common_runtime/gpu/gpu_device.cc:1525] Created device /device:GPU:0 with 4386 MB memory:  -> device: 0, name: NVIDIA GeForce RTX 3070, pci bus id: 0000:2b:00.0, compute capability: 8.6\n"
     ]
    },
    {
     "data": {
      "text/plain": [
       "[name: \"/device:CPU:0\"\n",
       " device_type: \"CPU\"\n",
       " memory_limit: 268435456\n",
       " locality {\n",
       " }\n",
       " incarnation: 16220530760283784840\n",
       " xla_global_id: -1,\n",
       " name: \"/device:GPU:0\"\n",
       " device_type: \"GPU\"\n",
       " memory_limit: 4599054336\n",
       " locality {\n",
       "   bus_id: 1\n",
       "   links {\n",
       "   }\n",
       " }\n",
       " incarnation: 5102724011268258439\n",
       " physical_device_desc: \"device: 0, name: NVIDIA GeForce RTX 3070, pci bus id: 0000:2b:00.0, compute capability: 8.6\"\n",
       " xla_global_id: 416903419]"
      ]
     },
     "execution_count": 2,
     "metadata": {},
     "output_type": "execute_result"
    }
   ],
   "source": [
    "from tensorflow.python.client import device_lib\n",
    "device_lib.list_local_devices()"
   ]
  },
  {
   "cell_type": "markdown",
   "metadata": {
    "id": "cR9wiB7IAsiU",
    "pycharm": {
     "name": "#%% md\n"
    }
   },
   "source": [
    "## Dataset Construction\n",
    "\n",
    "For this example, we will be using the\n",
    "[Moving MNIST](http://www.cs.toronto.edu/~nitish/unsupervised_video/)\n",
    "dataset.\n",
    "\n",
    "We will download the dataset and then construct and\n",
    "preprocess training and validation sets.\n",
    "\n",
    "For next-frame prediction, our model will be using a previous frame,\n",
    "which we'll call `f_n`, to predict a new frame, called `f_(n + 1)`.\n",
    "To allow the model to create these predictions, we'll need to process\n",
    "the data such that we have \"shifted\" inputs and outputs, where the\n",
    "input data is frame `x_n`, being used to predict frame `y_(n + 1)`."
   ]
  },
  {
   "cell_type": "code",
   "execution_count": 3,
   "metadata": {
    "pycharm": {
     "name": "#%%\n"
    }
   },
   "outputs": [],
   "source": [
    "# # Download and load the dataset.\n",
    "# fpath = keras.utils.get_file(\n",
    "#     \"moving_mnist.npy\",\n",
    "#     \"http://www.cs.toronto.edu/~nitish/unsupervised_video/mnist_test_seq.npy\",\n",
    "# )\n",
    "# dataset = np.load(fpath)\n",
    "\n",
    "# # Swap the axes representing the number of frames and number of data samples.\n",
    "# dataset = np.swapaxes(dataset, 0, 1)\n",
    "# # We'll pick out 1000 of the 10000 total examples and use those.\n",
    "# dataset = dataset[:1000, ...]\n",
    "# # Add a channel dimension since the images are grayscale.\n",
    "# dataset = np.expand_dims(dataset, axis=-1)\n",
    "\n",
    "# # Split into train and validation sets using indexing to optimize memory.\n",
    "# indexes = np.arange(dataset.shape[0])\n",
    "# np.random.shuffle(indexes)\n",
    "# train_index = indexes[: int(0.9 * dataset.shape[0])]\n",
    "# val_index = indexes[int(0.9 * dataset.shape[0]) :]\n",
    "# train_dataset = dataset[train_index]\n",
    "# val_dataset = dataset[val_index]\n",
    "\n",
    "# # Normalize the data to the 0-1 range.\n",
    "# train_dataset = train_dataset / 255\n",
    "# val_dataset = val_dataset / 255\n",
    "\n",
    "# dataset.shape"
   ]
  },
  {
   "cell_type": "code",
   "execution_count": 4,
   "metadata": {
    "pycharm": {
     "name": "#%%\n"
    }
   },
   "outputs": [
    {
     "data": {
      "text/plain": [
       "(64, 50, 80, 80, 2)"
      ]
     },
     "execution_count": 4,
     "metadata": {},
     "output_type": "execute_result"
    }
   ],
   "source": [
    "# import sys\n",
    "# log_path = 'log.txt'\n",
    "# sys.stdout = open(log_path, \"w\")\n",
    "\n",
    "import h5py\n",
    "h5 = h5py.File('./reformattedData_20220523/ConvLSTM_all_cases_80x80_per100_previousPhi_zoom_withTipsTheta_stage1_50_compressed.hdf5', mode='r')\n",
    "dataset = h5.get('phi')\n",
    "\n",
    "# Split into train and validation sets using indexing to optimize memory.\n",
    "# indexes = np.arange(dataset.shape[0])\n",
    "# np.random.shuffle(indexes)\n",
    "# train_index = indexes[: int(0.9 * dataset.shape[0])]\n",
    "# val_index = indexes[int(0.9 * dataset.shape[0]) :]\n",
    "train_index = np.arange(45)\n",
    "val_index = np.arange(16)+45\n",
    "train_dataset = dataset[train_index]\n",
    "val_dataset = dataset[val_index]\n",
    "\n",
    "# Normalize the data to the 0-1 range.\n",
    "train_dataset = train_dataset\n",
    "val_dataset = val_dataset\n",
    "\n",
    "dataset.shape"
   ]
  },
  {
   "cell_type": "code",
   "execution_count": 5,
   "metadata": {
    "id": "tGTtFY0sAsiV",
    "pycharm": {
     "name": "#%%\n"
    }
   },
   "outputs": [
    {
     "name": "stdout",
     "output_type": "stream",
     "text": [
      "Training Dataset Shapes: (45, 49, 80, 80, 2), (45, 49, 80, 80, 2)\n",
      "Validation Dataset Shapes: (16, 49, 80, 80, 2), (16, 49, 80, 80, 2)\n"
     ]
    }
   ],
   "source": [
    "# We'll define a helper function to shift the frames, where\n",
    "# `x` is frames 0 to n - 1, and `y` is frames 1 to n.\n",
    "def create_shifted_frames(data):\n",
    "    x = data[:, 0 : data.shape[1] - 1, :, :]\n",
    "    y = data[:, 1 : data.shape[1], :, :]\n",
    "    return x, y\n",
    "\n",
    "def create_shifted_frames_one2many(data):\n",
    "    x = data[:, 0:1 , :, :]\n",
    "    y = data[:, 1 : data.shape[1], :, :]\n",
    "    return x, y\n",
    "\n",
    "# Apply the processing function to the datasets.\n",
    "x_train, y_train = create_shifted_frames(train_dataset)\n",
    "x_val, y_val = create_shifted_frames(val_dataset)\n",
    "# x_train, y_train = create_shifted_frames_one2many(train_dataset)\n",
    "# x_val, y_val = create_shifted_frames_one2many(val_dataset)\n",
    "\n",
    "# Inspect the dataset.\n",
    "print(\"Training Dataset Shapes: \" + str(x_train.shape) + \", \" + str(y_train.shape))\n",
    "print(\"Validation Dataset Shapes: \" + str(x_val.shape) + \", \" + str(y_val.shape))"
   ]
  },
  {
   "cell_type": "markdown",
   "metadata": {
    "id": "SD_ukko8AsiV",
    "pycharm": {
     "name": "#%% md\n"
    }
   },
   "source": [
    "## Data Visualization\n",
    "\n",
    "Our data consists of sequences of frames, each of which\n",
    "are used to predict the upcoming frame. Let's take a look\n",
    "at some of these sequential frames."
   ]
  },
  {
   "cell_type": "code",
   "execution_count": 6,
   "metadata": {
    "id": "_l-6iwGZAsiW",
    "pycharm": {
     "name": "#%%\n"
    }
   },
   "outputs": [
    {
     "name": "stdout",
     "output_type": "stream",
     "text": [
      "Displaying frames for example 32.\n"
     ]
    },
    {
     "data": {
      "image/png": "[encoded data removed]",
      "text/plain": [
       "<Figure size 1008x864 with 20 Axes>"
      ]
     },
     "metadata": {
      "needs_background": "light"
     },
     "output_type": "display_data"
    }
   ],
   "source": [
    "# Construct a figure on which we will visualize the images.\n",
    "fig, axes = plt.subplots(4, 5, figsize=(14, 12))\n",
    "\n",
    "# Plot each of the sequential images for one random data example.\n",
    "data_choice = np.random.choice(range(len(train_dataset)), size=1)[0]\n",
    "for idx, ax in enumerate(axes.flat):\n",
    "    ax.imshow(np.squeeze(train_dataset[data_choice][idx][:,:,0]), cmap=\"gray\")\n",
    "    ax.set_title(f\"Frame {idx + 1}\")\n",
    "    ax.axis(\"off\")\n",
    "\n",
    "# Print information and display the figure.\n",
    "print(f\"Displaying frames for example {data_choice}.\")\n",
    "plt.show()"
   ]
  },
  {
   "cell_type": "markdown",
   "metadata": {
    "id": "48D1Sw9dAsiW",
    "pycharm": {
     "name": "#%% md\n"
    }
   },
   "source": [
    "## Model Construction\n",
    "\n",
    "To build a Convolutional LSTM model, we will use the\n",
    "`ConvLSTM2D` layer, which will accept inputs of shape\n",
    "`(batch_size, num_frames, width, height, channels)`, and return\n",
    "a prediction movie of the same shape."
   ]
  },
  {
   "cell_type": "code",
   "execution_count": 7,
   "metadata": {},
   "outputs": [],
   "source": [
    "# # Construct the input layer with no definite frame size.\n",
    "# inp = layers.Input(shape=(None, *x_train.shape[2:]))\n",
    "\n",
    "# x0 = layers.ConvLSTM2D(\n",
    "#     filters=64,\n",
    "#     kernel_size=(5, 5),\n",
    "#     strides = (2, 2),\n",
    "#     padding=\"valid\",\n",
    "#     return_sequences=True,\n",
    "#     activation=\"relu\",\n",
    "# )(inp)\n",
    "# x1 = layers.BatchNormalization()(x0)\n",
    "# x2 = layers.ConvLSTM2D(\n",
    "#     filters=128,\n",
    "#     kernel_size=(5, 5),\n",
    "#     strides = (2, 2),\n",
    "#     padding=\"valid\",\n",
    "#     return_sequences=True,\n",
    "#     activation=\"relu\",\n",
    "# )(x1)\n",
    "# x3 = layers.BatchNormalization()(x2)\n",
    "# x4 = layers.TimeDistributed(layers.Conv2DTranspose(\n",
    "#     filters=64,\n",
    "#     kernel_size=(6, 6),\n",
    "#     strides = (2, 2),\n",
    "#     padding=\"valid\",\n",
    "#     activation=\"relu\",\n",
    "# ))(x3)\n",
    "# x5 = layers.BatchNormalization()(x4)\n",
    "# x6 = layers.TimeDistributed(layers.Conv2DTranspose(\n",
    "#     filters=1,\n",
    "#     kernel_size=(6, 6),\n",
    "#     strides = (2, 2),\n",
    "#     padding=\"valid\",\n",
    "#     activation=\"relu\",\n",
    "# ))(x5)\n",
    "\n",
    "# x6.shape"
   ]
  },
  {
   "cell_type": "code",
   "execution_count": 8,
   "metadata": {},
   "outputs": [],
   "source": [
    "# # Construct the input layer with no definite frame size.\n",
    "# inp = layers.Input(shape=(None, *x_train.shape[2:]))\n",
    "\n",
    "# x0 = layers.ConvLSTM2D(\n",
    "#     filters=64,\n",
    "#     kernel_size=(5, 5),\n",
    "#     strides = (2, 2),\n",
    "#     padding=\"valid\",\n",
    "#     return_sequences=True,\n",
    "#     activation=\"relu\",\n",
    "# )(inp)\n",
    "# x1 = layers.ConvLSTM2D(\n",
    "#     filters=128,\n",
    "#     kernel_size=(5, 5),\n",
    "#     strides = (2, 2),\n",
    "#     padding=\"valid\",\n",
    "#     return_sequences=True,\n",
    "#     activation=\"relu\",\n",
    "# )(x0)\n",
    "# x2 = layers.TimeDistributed(layers.Conv2DTranspose(\n",
    "#     filters=64,\n",
    "#     kernel_size=(6, 6),\n",
    "#     strides = (2, 2),\n",
    "#     padding=\"valid\",\n",
    "#     activation=\"relu\",\n",
    "# ))(x1)\n",
    "# x3 = layers.Concatenate(axis=4)([x0,x2])\n",
    "# x4 = layers.TimeDistributed(layers.Conv2DTranspose(\n",
    "#     filters=1,\n",
    "#     kernel_size=(6, 6),\n",
    "#     strides = (2, 2),\n",
    "#     padding=\"valid\",\n",
    "#     activation=\"relu\",\n",
    "# ))(x3)"
   ]
  },
  {
   "cell_type": "code",
   "execution_count": 9,
   "metadata": {},
   "outputs": [
    {
     "name": "stderr",
     "output_type": "stream",
     "text": [
      "2022-05-27 12:27:25.307028: I tensorflow/stream_executor/cuda/cuda_gpu_executor.cc:936] successful NUMA node read from SysFS had negative value (-1), but there must be at least one NUMA node, so returning NUMA node zero\n",
      "2022-05-27 12:27:25.307189: I tensorflow/stream_executor/cuda/cuda_gpu_executor.cc:936] successful NUMA node read from SysFS had negative value (-1), but there must be at least one NUMA node, so returning NUMA node zero\n",
      "2022-05-27 12:27:25.307291: I tensorflow/stream_executor/cuda/cuda_gpu_executor.cc:936] successful NUMA node read from SysFS had negative value (-1), but there must be at least one NUMA node, so returning NUMA node zero\n",
      "2022-05-27 12:27:25.307514: I tensorflow/stream_executor/cuda/cuda_gpu_executor.cc:936] successful NUMA node read from SysFS had negative value (-1), but there must be at least one NUMA node, so returning NUMA node zero\n",
      "2022-05-27 12:27:25.307623: I tensorflow/stream_executor/cuda/cuda_gpu_executor.cc:936] successful NUMA node read from SysFS had negative value (-1), but there must be at least one NUMA node, so returning NUMA node zero\n",
      "2022-05-27 12:27:25.307722: I tensorflow/stream_executor/cuda/cuda_gpu_executor.cc:936] successful NUMA node read from SysFS had negative value (-1), but there must be at least one NUMA node, so returning NUMA node zero\n",
      "2022-05-27 12:27:25.307861: I tensorflow/stream_executor/cuda/cuda_gpu_executor.cc:936] successful NUMA node read from SysFS had negative value (-1), but there must be at least one NUMA node, so returning NUMA node zero\n",
      "2022-05-27 12:27:25.307964: I tensorflow/stream_executor/cuda/cuda_gpu_executor.cc:936] successful NUMA node read from SysFS had negative value (-1), but there must be at least one NUMA node, so returning NUMA node zero\n",
      "2022-05-27 12:27:25.308041: I tensorflow/core/common_runtime/gpu/gpu_device.cc:1525] Created device /job:localhost/replica:0/task:0/device:GPU:0 with 4386 MB memory:  -> device: 0, name: NVIDIA GeForce RTX 3070, pci bus id: 0000:2b:00.0, compute capability: 8.6\n"
     ]
    }
   ],
   "source": [
    "# Construct the input layer with no definite frame size.\n",
    "inp = layers.Input(shape=(None, *x_train.shape[2:]))\n",
    "\n",
    "x0 = layers.TimeDistributed(layers.Conv2D(\n",
    "    filters=64,\n",
    "    kernel_size=(5, 5),\n",
    "    strides = (2, 2),\n",
    "    padding=\"valid\",\n",
    "    activation=\"relu\",\n",
    "))(inp)\n",
    "x1 = layers.TimeDistributed(layers.Conv2D(\n",
    "    filters=128,\n",
    "    kernel_size=(5, 5),\n",
    "    strides = (2, 2),\n",
    "    padding=\"valid\",\n",
    "    activation=\"relu\",\n",
    "))(x0)\n",
    "x2 = layers.ConvLSTM2D(\n",
    "    filters=128,\n",
    "    kernel_size=(5, 5),\n",
    "    padding=\"same\",\n",
    "    return_sequences=True,\n",
    "    activation=\"relu\",\n",
    ")(x1)\n",
    "x3 = layers.Concatenate(axis=4)([x1,x2])\n",
    "x4 = layers.TimeDistributed(layers.Conv2DTranspose(\n",
    "    filters=64,\n",
    "    kernel_size=(6, 6),\n",
    "    strides = (2, 2),\n",
    "    padding=\"valid\",\n",
    "    activation=\"relu\",\n",
    "))(x3)\n",
    "x5 = layers.Concatenate(axis=4)([x0,x4])\n",
    "x6 = layers.TimeDistributed(layers.Conv2DTranspose(\n",
    "    filters=1,\n",
    "    kernel_size=(6, 6),\n",
    "    strides = (2, 2),\n",
    "    padding=\"valid\",\n",
    "    activation=\"relu\",\n",
    "))(x5)"
   ]
  },
  {
   "cell_type": "code",
   "execution_count": 10,
   "metadata": {},
   "outputs": [
    {
     "name": "stdout",
     "output_type": "stream",
     "text": [
      "Model: \"model\"\n",
      "__________________________________________________________________________________________________\n",
      " Layer (type)                   Output Shape         Param #     Connected to                     \n",
      "==================================================================================================\n",
      " input_1 (InputLayer)           [(None, None, 80, 8  0           []                               \n",
      "                                0, 2)]                                                            \n",
      "                                                                                                  \n",
      " time_distributed (TimeDistribu  (None, None, 38, 38  3264       ['input_1[0][0]']                \n",
      " ted)                           , 64)                                                             \n",
      "                                                                                                  \n",
      " time_distributed_1 (TimeDistri  (None, None, 17, 17  204928     ['time_distributed[0][0]']       \n",
      " buted)                         , 128)                                                            \n",
      "                                                                                                  \n",
      " conv_lstm2d (ConvLSTM2D)       (None, None, 17, 17  3277312     ['time_distributed_1[0][0]']     \n",
      "                                , 128)                                                            \n",
      "                                                                                                  \n",
      " concatenate (Concatenate)      (None, None, 17, 17  0           ['time_distributed_1[0][0]',     \n",
      "                                , 256)                            'conv_lstm2d[0][0]']            \n",
      "                                                                                                  \n",
      " time_distributed_2 (TimeDistri  (None, None, 38, 38  589888     ['concatenate[0][0]']            \n",
      " buted)                         , 64)                                                             \n",
      "                                                                                                  \n",
      " concatenate_1 (Concatenate)    (None, None, 38, 38  0           ['time_distributed[0][0]',       \n",
      "                                , 128)                            'time_distributed_2[0][0]']     \n",
      "                                                                                                  \n",
      " time_distributed_3 (TimeDistri  (None, None, 80, 80  4609       ['concatenate_1[0][0]']          \n",
      " buted)                         , 1)                                                              \n",
      "                                                                                                  \n",
      "==================================================================================================\n",
      "Total params: 4,080,001\n",
      "Trainable params: 4,080,001\n",
      "Non-trainable params: 0\n",
      "__________________________________________________________________________________________________\n",
      "None\n"
     ]
    }
   ],
   "source": [
    "# Next, we will build the complete model and compile it.\n",
    "model = keras.models.Model(inp, x6)\n",
    "model.compile(\n",
    "    loss=keras.losses.binary_crossentropy, optimizer=keras.optimizers.Adam(),\n",
    "    # loss=keras.losses.MeanSquaredError(reduction=\"auto\", name=\"mean_squared_error\"), optimizer=keras.optimizers.Adam(),\n",
    ")\n",
    "print(model.summary())"
   ]
  },
  {
   "cell_type": "markdown",
   "metadata": {
    "id": "p6dQoEBBAsiX",
    "pycharm": {
     "name": "#%% md\n"
    }
   },
   "source": [
    "## Model Training\n",
    "\n",
    "With our model and data constructed, we can now train the model."
   ]
  },
  {
   "cell_type": "code",
   "execution_count": 11,
   "metadata": {
    "id": "X5Q7hmIAAsiX",
    "pycharm": {
     "name": "#%%\n"
    }
   },
   "outputs": [
    {
     "name": "stdout",
     "output_type": "stream",
     "text": [
      "Epoch 1/100\n"
     ]
    },
    {
     "name": "stderr",
     "output_type": "stream",
     "text": [
      "2022-05-27 12:27:26.851725: E tensorflow/core/grappler/optimizers/meta_optimizer.cc:828] layout failed: INVALID_ARGUMENT: MutableGraphView::SortTopologically error: detected edge(s) creating cycle(s) {'Func/gradient_tape/model/conv_lstm2d/while/model/conv_lstm2d/while_grad/body/_189/input/_551' -> 'gradient_tape/model/conv_lstm2d/while/model/conv_lstm2d/while_grad/body/_189/gradient_tape/model/conv_lstm2d/while/gradients/AddN', 'model/conv_lstm2d/while/body/_1/model/conv_lstm2d/while/mul_2' -> 'model/conv_lstm2d/while/body/_1/model/conv_lstm2d/while/add_5', 'model/conv_lstm2d/while/body/_1/model/conv_lstm2d/while/clip_by_value' -> 'model/conv_lstm2d/while/body/_1/model/conv_lstm2d/while/mul_3', 'model/conv_lstm2d/while/body/_1/model/conv_lstm2d/while/clip_by_value_2' -> 'model/conv_lstm2d/while/body/_1/model/conv_lstm2d/while/mul_5', 'model/conv_lstm2d/while/body/_1/model/conv_lstm2d/while/convolution_6' -> 'model/conv_lstm2d/while/body/_1/model/conv_lstm2d/while/add_4'}.\n",
      "2022-05-27 12:27:27.629892: I tensorflow/stream_executor/cuda/cuda_dnn.cc:368] Loaded cuDNN version 8303\n",
      "2022-05-27 12:27:28.417973: I tensorflow/core/platform/default/subprocess.cc:304] Start cannot spawn child process: No such file or directory\n"
     ]
    },
    {
     "name": "stdout",
     "output_type": "stream",
     "text": [
      "45/45 [==============================] - ETA: 0s - loss: 0.4126"
     ]
    },
    {
     "name": "stderr",
     "output_type": "stream",
     "text": [
      "2022-05-27 12:27:35.818654: E tensorflow/core/grappler/optimizers/meta_optimizer.cc:828] layout failed: INVALID_ARGUMENT: MutableGraphView::SortTopologically error: detected edge(s) creating cycle(s) {'model/conv_lstm2d/while/body/_1/model/conv_lstm2d/while/Relu_1' -> 'model/conv_lstm2d/while/body/_1/model/conv_lstm2d/while/mul_5', 'model/conv_lstm2d/while/body/_1/model/conv_lstm2d/while/mul_2' -> 'model/conv_lstm2d/while/body/_1/model/conv_lstm2d/while/add_5', 'model/conv_lstm2d/while/body/_1/model/conv_lstm2d/while/convolution_7' -> 'model/conv_lstm2d/while/body/_1/model/conv_lstm2d/while/add_6'}.\n"
     ]
    },
    {
     "name": "stdout",
     "output_type": "stream",
     "text": [
      "45/45 [==============================] - 11s 180ms/step - loss: 0.4126 - val_loss: 0.0916\n",
      "Epoch 2/100\n",
      "45/45 [==============================] - 8s 174ms/step - loss: 0.1315 - val_loss: 0.0745\n",
      "Epoch 3/100\n",
      "45/45 [==============================] - 8s 172ms/step - loss: 0.0740 - val_loss: 0.0719\n",
      "Epoch 4/100\n",
      "45/45 [==============================] - 8s 170ms/step - loss: 0.0721 - val_loss: 0.0705\n",
      "Epoch 5/100\n",
      "45/45 [==============================] - 8s 171ms/step - loss: 0.0709 - val_loss: 0.0696\n",
      "Epoch 6/100\n",
      "45/45 [==============================] - 8s 172ms/step - loss: 0.0702 - val_loss: 0.0690\n",
      "Epoch 7/100\n",
      "45/45 [==============================] - 8s 169ms/step - loss: 0.0697 - val_loss: 0.0686\n",
      "Epoch 8/100\n",
      "45/45 [==============================] - 8s 170ms/step - loss: 0.0693 - val_loss: 0.0683\n",
      "Epoch 9/100\n",
      "45/45 [==============================] - 8s 170ms/step - loss: 0.0690 - val_loss: 0.0681\n",
      "Epoch 10/100\n",
      "45/45 [==============================] - 8s 168ms/step - loss: 0.0689 - val_loss: 0.0679\n",
      "Epoch 11/100\n",
      "45/45 [==============================] - 8s 167ms/step - loss: 0.0686 - val_loss: 0.0677\n",
      "Epoch 12/100\n",
      "45/45 [==============================] - 8s 169ms/step - loss: 0.0684 - val_loss: 0.0675\n",
      "Epoch 13/100\n",
      "45/45 [==============================] - 7s 165ms/step - loss: 0.0682 - val_loss: 0.0674\n",
      "Epoch 14/100\n",
      "45/45 [==============================] - 7s 165ms/step - loss: 0.0681 - val_loss: 0.0671\n",
      "Epoch 15/100\n",
      "45/45 [==============================] - 8s 170ms/step - loss: 0.0679 - val_loss: 0.0672\n",
      "Epoch 16/100\n",
      "45/45 [==============================] - 8s 168ms/step - loss: 0.0679 - val_loss: 0.0669\n",
      "Epoch 17/100\n",
      "45/45 [==============================] - 8s 168ms/step - loss: 0.0681 - val_loss: 0.0676\n",
      "Epoch 18/100\n",
      "45/45 [==============================] - 8s 169ms/step - loss: 0.0678 - val_loss: 0.0667\n",
      "Epoch 19/100\n",
      "45/45 [==============================] - 8s 171ms/step - loss: 0.0675 - val_loss: 0.0667\n",
      "Epoch 20/100\n",
      "45/45 [==============================] - 8s 176ms/step - loss: 0.0674 - val_loss: 0.0665\n",
      "Epoch 21/100\n",
      "45/45 [==============================] - 8s 170ms/step - loss: 0.0672 - val_loss: 0.0664\n",
      "Epoch 22/100\n",
      "45/45 [==============================] - 7s 167ms/step - loss: 0.0671 - val_loss: 0.0662\n",
      "Epoch 23/100\n",
      "45/45 [==============================] - 11s 240ms/step - loss: 0.0670 - val_loss: 0.0663\n",
      "Epoch 24/100\n",
      "45/45 [==============================] - 8s 170ms/step - loss: 0.0669 - val_loss: 0.0661\n",
      "Epoch 25/100\n",
      "45/45 [==============================] - 8s 175ms/step - loss: 0.0668 - val_loss: 0.0660\n",
      "Epoch 26/100\n",
      "45/45 [==============================] - 8s 172ms/step - loss: 0.0667 - val_loss: 0.0659\n",
      "Epoch 27/100\n",
      "45/45 [==============================] - 8s 185ms/step - loss: 0.0666 - val_loss: 0.0658\n",
      "Epoch 28/100\n",
      "45/45 [==============================] - 8s 170ms/step - loss: 0.0666 - val_loss: 0.0658\n",
      "Epoch 29/100\n",
      "45/45 [==============================] - 9s 198ms/step - loss: 0.0667 - val_loss: 0.0667\n",
      "Epoch 30/100\n",
      "45/45 [==============================] - 8s 178ms/step - loss: 0.0670 - val_loss: 0.0658\n",
      "Epoch 31/100\n",
      "45/45 [==============================] - 8s 177ms/step - loss: 0.0665 - val_loss: 0.0657\n",
      "Epoch 32/100\n",
      "45/45 [==============================] - 8s 178ms/step - loss: 0.0664 - val_loss: 0.0656\n",
      "Epoch 33/100\n",
      "45/45 [==============================] - 8s 175ms/step - loss: 0.0663 - val_loss: 0.0655\n",
      "Epoch 34/100\n",
      "45/45 [==============================] - 8s 171ms/step - loss: 0.0662 - val_loss: 0.0655\n",
      "Epoch 35/100\n",
      "45/45 [==============================] - 8s 175ms/step - loss: 0.0662 - val_loss: 0.0654\n",
      "Epoch 36/100\n",
      "45/45 [==============================] - 8s 172ms/step - loss: 0.0661 - val_loss: 0.0653\n",
      "Epoch 37/100\n",
      "45/45 [==============================] - 8s 171ms/step - loss: 0.0661 - val_loss: 0.0654\n",
      "Epoch 38/100\n",
      "45/45 [==============================] - 8s 170ms/step - loss: 0.0661 - val_loss: 0.0654\n",
      "Epoch 39/100\n",
      "45/45 [==============================] - 8s 170ms/step - loss: 0.0660 - val_loss: 0.0652\n",
      "Epoch 40/100\n",
      "45/45 [==============================] - 8s 178ms/step - loss: 0.0659 - val_loss: 0.0652\n",
      "Epoch 41/100\n",
      "45/45 [==============================] - 8s 167ms/step - loss: 0.0659 - val_loss: 0.0651\n",
      "Epoch 42/100\n",
      "45/45 [==============================] - 8s 169ms/step - loss: 0.0662 - val_loss: 0.0653\n",
      "Epoch 43/100\n",
      "45/45 [==============================] - 7s 167ms/step - loss: 0.0659 - val_loss: 0.0651\n",
      "Epoch 44/100\n",
      "45/45 [==============================] - 7s 165ms/step - loss: 0.0658 - val_loss: 0.0651\n",
      "Epoch 45/100\n",
      "45/45 [==============================] - 8s 169ms/step - loss: 0.0658 - val_loss: 0.0650\n",
      "Epoch 46/100\n",
      "45/45 [==============================] - 8s 170ms/step - loss: 0.0657 - val_loss: 0.0650\n",
      "Epoch 47/100\n",
      "45/45 [==============================] - 8s 170ms/step - loss: 0.0658 - val_loss: 0.0671\n",
      "Epoch 48/100\n",
      "45/45 [==============================] - 7s 166ms/step - loss: 0.0664 - val_loss: 0.0653\n",
      "Epoch 49/100\n",
      "45/45 [==============================] - 8s 169ms/step - loss: 0.0658 - val_loss: 0.0650\n",
      "Epoch 50/100\n",
      "45/45 [==============================] - 8s 169ms/step - loss: 0.0657 - val_loss: 0.0650\n",
      "Epoch 51/100\n",
      "45/45 [==============================] - 8s 168ms/step - loss: 0.0656 - val_loss: 0.0649\n",
      "Epoch 52/100\n",
      "45/45 [==============================] - 8s 170ms/step - loss: 0.0655 - val_loss: 0.0648\n",
      "Epoch 53/100\n",
      "45/45 [==============================] - 7s 164ms/step - loss: 0.0655 - val_loss: 0.0648\n",
      "Epoch 54/100\n",
      "45/45 [==============================] - 7s 167ms/step - loss: 0.0654 - val_loss: 0.0648\n",
      "Epoch 55/100\n",
      "45/45 [==============================] - 8s 169ms/step - loss: 0.0654 - val_loss: 0.0647\n",
      "Epoch 56/100\n",
      "45/45 [==============================] - 8s 167ms/step - loss: 0.0654 - val_loss: 0.0647\n",
      "Epoch 57/100\n",
      "45/45 [==============================] - 8s 168ms/step - loss: 0.0653 - val_loss: 0.0647\n",
      "Epoch 58/100\n",
      "45/45 [==============================] - 8s 167ms/step - loss: 0.0653 - val_loss: 0.0647\n",
      "Epoch 59/100\n",
      "45/45 [==============================] - 7s 166ms/step - loss: 0.0653 - val_loss: 0.0646\n",
      "Epoch 60/100\n",
      "45/45 [==============================] - 8s 168ms/step - loss: 0.0653 - val_loss: 0.0646\n",
      "Epoch 61/100\n",
      "45/45 [==============================] - 7s 163ms/step - loss: 0.0652 - val_loss: 0.0645\n",
      "Epoch 62/100\n",
      "45/45 [==============================] - 7s 165ms/step - loss: 0.0652 - val_loss: 0.0645\n",
      "Epoch 63/100\n",
      "45/45 [==============================] - 8s 171ms/step - loss: 0.0652 - val_loss: 0.0645\n",
      "Epoch 64/100\n",
      "45/45 [==============================] - 8s 170ms/step - loss: 0.0651 - val_loss: 0.0645\n",
      "Epoch 65/100\n",
      "45/45 [==============================] - 8s 173ms/step - loss: 0.0651 - val_loss: 0.0647\n",
      "Epoch 66/100\n",
      "45/45 [==============================] - 8s 173ms/step - loss: 0.0654 - val_loss: 0.0646\n",
      "Epoch 67/100\n",
      "45/45 [==============================] - 8s 173ms/step - loss: 0.0652 - val_loss: 0.0645\n",
      "Epoch 68/100\n",
      "45/45 [==============================] - 8s 171ms/step - loss: 0.0665 - val_loss: 0.0656\n",
      "Epoch 69/100\n",
      "45/45 [==============================] - 8s 168ms/step - loss: 0.0656 - val_loss: 0.0652\n",
      "Epoch 70/100\n",
      "45/45 [==============================] - 8s 167ms/step - loss: 0.0656 - val_loss: 0.0646\n",
      "Epoch 71/100\n",
      "45/45 [==============================] - 8s 168ms/step - loss: 0.0652 - val_loss: 0.0645\n",
      "Epoch 72/100\n",
      "45/45 [==============================] - 8s 169ms/step - loss: 0.0651 - val_loss: 0.0644\n",
      "Epoch 73/100\n",
      "45/45 [==============================] - 8s 171ms/step - loss: 0.0653 - val_loss: 0.0646\n",
      "Epoch 74/100\n",
      "45/45 [==============================] - 8s 171ms/step - loss: 0.0651 - val_loss: 0.0644\n",
      "Epoch 75/100\n",
      "45/45 [==============================] - 8s 170ms/step - loss: 0.0651 - val_loss: 0.0644\n",
      "Epoch 76/100\n",
      "45/45 [==============================] - 7s 167ms/step - loss: 0.0650 - val_loss: 0.0644\n",
      "Epoch 77/100\n",
      "45/45 [==============================] - 8s 169ms/step - loss: 0.0650 - val_loss: 0.0643\n",
      "Epoch 78/100\n",
      "45/45 [==============================] - 7s 167ms/step - loss: 0.0651 - val_loss: 0.0644\n",
      "Epoch 79/100\n",
      "45/45 [==============================] - 7s 166ms/step - loss: 0.0654 - val_loss: 0.0650\n",
      "Epoch 80/100\n",
      "45/45 [==============================] - 8s 172ms/step - loss: 0.0652 - val_loss: 0.0643\n",
      "Epoch 81/100\n",
      "45/45 [==============================] - 8s 168ms/step - loss: 0.0649 - val_loss: 0.0643\n",
      "Epoch 82/100\n",
      "45/45 [==============================] - 8s 169ms/step - loss: 0.0649 - val_loss: 0.0642\n",
      "Epoch 83/100\n",
      "45/45 [==============================] - 8s 170ms/step - loss: 0.0651 - val_loss: 0.0645\n",
      "Epoch 84/100\n",
      "45/45 [==============================] - 8s 169ms/step - loss: 0.0650 - val_loss: 0.0642\n",
      "Epoch 85/100\n",
      "45/45 [==============================] - 8s 173ms/step - loss: 0.0648 - val_loss: 0.0642\n",
      "Epoch 86/100\n",
      "45/45 [==============================] - 8s 170ms/step - loss: 0.0648 - val_loss: 0.0641\n",
      "Epoch 87/100\n",
      "45/45 [==============================] - 8s 168ms/step - loss: 0.0648 - val_loss: 0.0641\n",
      "Epoch 88/100\n",
      "45/45 [==============================] - 8s 171ms/step - loss: 0.0649 - val_loss: 0.0642\n",
      "Epoch 89/100\n",
      "45/45 [==============================] - 8s 170ms/step - loss: 0.0648 - val_loss: 0.0641\n",
      "Epoch 90/100\n",
      "45/45 [==============================] - 8s 170ms/step - loss: 0.0647 - val_loss: 0.0642\n",
      "Epoch 91/100\n",
      "45/45 [==============================] - 8s 172ms/step - loss: 0.0648 - val_loss: 0.0641\n",
      "Epoch 92/100\n",
      "45/45 [==============================] - 8s 173ms/step - loss: 0.0647 - val_loss: 0.0641\n",
      "Epoch 93/100\n",
      "45/45 [==============================] - 8s 174ms/step - loss: 0.0647 - val_loss: 0.0648\n",
      "Epoch 94/100\n",
      "45/45 [==============================] - 8s 180ms/step - loss: 0.0650 - val_loss: 0.0643\n",
      "Epoch 95/100\n",
      "45/45 [==============================] - 8s 167ms/step - loss: 0.0657 - val_loss: 0.0645\n",
      "Epoch 96/100\n",
      "45/45 [==============================] - 8s 167ms/step - loss: 0.0650 - val_loss: 0.0642\n",
      "Epoch 97/100\n",
      "45/45 [==============================] - 8s 168ms/step - loss: 0.0650 - val_loss: 0.0644\n",
      "Epoch 98/100\n",
      "45/45 [==============================] - 7s 163ms/step - loss: 0.0649 - val_loss: 0.0641\n",
      "Epoch 99/100\n",
      "45/45 [==============================] - 8s 173ms/step - loss: 0.0648 - val_loss: 0.0642\n",
      "Epoch 100/100\n",
      "45/45 [==============================] - 8s 167ms/step - loss: 0.0647 - val_loss: 0.0641\n"
     ]
    }
   ],
   "source": [
    "# Define some callbacks to improve training.\n",
    "# early_stopping = keras.callbacks.EarlyStopping(monitor=\"val_loss\", patience=10)\n",
    "# reduce_lr = keras.callbacks.ReduceLROnPlateau(monitor=\"val_loss\", patience=5)\n",
    "early_stopping = keras.callbacks.EarlyStopping(monitor=\"val_loss\", patience=20)\n",
    "reduce_lr = keras.callbacks.ReduceLROnPlateau(monitor=\"val_loss\", patience=10)\n",
    "\n",
    "# Define modifiable training hyperparameters.\n",
    "epochs = 100\n",
    "batch_size = 1\n",
    "\n",
    "# with tf.device('/device:CPU:0'):\n",
    "with tf.device('/device:GPU:0'):\n",
    "\n",
    "    # Fit the model to the training data.\n",
    "    model.fit(\n",
    "        x_train,\n",
    "        y_train,\n",
    "        batch_size=batch_size,\n",
    "        epochs=epochs,\n",
    "        validation_data=(x_val, y_val),\n",
    "        # callbacks=[early_stopping, reduce_lr],\n",
    "    )"
   ]
  },
  {
   "cell_type": "code",
   "execution_count": 12,
   "metadata": {},
   "outputs": [
    {
     "name": "stderr",
     "output_type": "stream",
     "text": [
      "2022-05-27 12:40:17.767884: W tensorflow/python/util/util.cc:368] Sets are not currently considered sequences, but this may change in the future, so consider avoiding using them.\n"
     ]
    },
    {
     "name": "stdout",
     "output_type": "stream",
     "text": [
      "INFO:tensorflow:Assets written to: ./tmp/model_crossBin350_2/assets\n"
     ]
    }
   ],
   "source": [
    "model.save('./tmp/model_crossBin350_2')\n",
    "# loaded_model = tf.keras.models.load_model('/tmp/model')"
   ]
  },
  {
   "cell_type": "code",
   "execution_count": 13,
   "metadata": {},
   "outputs": [],
   "source": [
    "# # Select a random example from the validation dataset.\n",
    "# example = val_dataset[np.random.choice(range(len(val_dataset)), size=1)[0]]\n",
    "\n",
    "# # Pick the first/last ten frames from the example.\n",
    "# frames = example[:10, ...]\n",
    "\n",
    "# test1 = frames[5,:,:,0]\n",
    "# test2 = frames[5,:,:,1]\n",
    "# import matplotlib.pyplot as plt\n",
    "# plt.subplot(1,2,1)\n",
    "# plt.imshow(test1)\n",
    "# plt.subplot(1,2,2)\n",
    "# plt.imshow(test2)"
   ]
  },
  {
   "cell_type": "code",
   "execution_count": 14,
   "metadata": {},
   "outputs": [],
   "source": [
    "# import matlab.engine\n",
    "\n",
    "# eng = matlab.engine.start_matlab()\n",
    "# phi = matlab.double(test1.tolist())\n",
    "# iter = 20000\n",
    "# tips_mat = eng.generate_tips_for_python(phi,iter)\n",
    "# tips = tips_mat.clone() \n",
    "\n",
    "# plt.subplot(1,2,1)\n",
    "# plt.imshow(phi)\n",
    "# plt.subplot(1,2,2)\n",
    "# plt.imshow(tips_mat)"
   ]
  },
  {
   "cell_type": "markdown",
   "metadata": {
    "id": "QRnQ8FcFAsiY",
    "pycharm": {
     "name": "#%% md\n"
    }
   },
   "source": [
    "## Frame Prediction Visualizations\n",
    "\n",
    "With our model now constructed and trained, we can generate\n",
    "some example frame predictions based on a new video.\n",
    "\n",
    "We'll pick a random example from the validation set and\n",
    "then choose the first ten frames from them. From there, we can\n",
    "allow the model to predict 10 new frames, which we can compare\n",
    "to the ground truth frame predictions."
   ]
  },
  {
   "cell_type": "code",
   "execution_count": 27,
   "metadata": {
    "id": "7epqfYPzAsiY",
    "pycharm": {
     "name": "#%%\n"
    }
   },
   "outputs": [
    {
     "data": {
      "image/png": "[encoded data removed]",
      "text/plain": [
       "<Figure size 1440x288 with 20 Axes>"
      ]
     },
     "metadata": {
      "needs_background": "light"
     },
     "output_type": "display_data"
    },
    {
     "data": {
      "text/plain": [
       "<Figure size 432x288 with 0 Axes>"
      ]
     },
     "metadata": {},
     "output_type": "display_data"
    }
   ],
   "source": [
    "# Select a random example from the validation dataset.\n",
    "example = val_dataset[np.random.choice(range(len(val_dataset)), size=1)[0]]\n",
    "\n",
    "# Pick the first/last ten frames from the example.\n",
    "frames = example[:15, ...]\n",
    "original_frames = example[15:, ...]\n",
    "\n",
    "# Predict a new set of 10 frames.\n",
    "for i in range(5):\n",
    "    # Extract the model's prediction and post-process it.\n",
    "    new_prediction = model.predict(np.expand_dims(frames, axis=0))\n",
    "    new_prediction = np.squeeze(new_prediction, axis=0)\n",
    "    predicted_frame = np.expand_dims(new_prediction[-1, ...], axis=0)\n",
    "\n",
    "    pred_set = np.concatenate((predicted_frame[0,:,:,:], np.expand_dims(original_frames[i,:,:,1],2)), axis=2)\n",
    "\n",
    "    # plt.imshow(predicted_frame[0,:,:,0])\n",
    "    # plt.show()\n",
    "    # Extend the set of prediction frames.\n",
    "    # frames = np.concatenate((frames, predicted_frame), axis=0)\n",
    "    frames = np.concatenate((frames, np.expand_dims(pred_set,0)), axis=0)\n",
    "    # print(frames.shape)\n",
    "# Construct a figure for the original and new frames.\n",
    "fig, axes = plt.subplots(2, 10, figsize=(20, 4))\n",
    "\n",
    "# Plot the original frames.\n",
    "for idx, ax in enumerate(axes[0]):\n",
    "    ax.imshow(np.squeeze(original_frames[idx,:,:,0]), cmap=\"gray\")\n",
    "    ax.set_title(f\"Frame {idx + 11}\")\n",
    "    ax.axis(\"off\")\n",
    "\n",
    "# Plot the new frames.\n",
    "new_frames = frames[10:, ...]\n",
    "for idx, ax in enumerate(axes[1]):\n",
    "    ax.imshow(np.squeeze(new_frames[idx,:,:,0]), cmap=\"gray\")\n",
    "    ax.set_title(f\"Frame {idx + 11}\")\n",
    "    ax.axis(\"off\")\n",
    "\n",
    "# Display the figure.\n",
    "plt.show()\n",
    "\n",
    "plt.savefig('convLSTMresults.png')"
   ]
  },
  {
   "cell_type": "code",
   "execution_count": 28,
   "metadata": {},
   "outputs": [
    {
     "data": {
      "image/png": "[encoded data removed]",
      "text/plain": [
       "<Figure size 1800x576 with 80 Axes>"
      ]
     },
     "metadata": {
      "needs_background": "light"
     },
     "output_type": "display_data"
    }
   ],
   "source": [
    "fig, axes = plt.subplots(4, 10, figsize=(25, 8))\n",
    "\n",
    "# Plot the original frames.\n",
    "for idx, ax in enumerate(axes[0]):\n",
    "    plt.subplot(4,10,idx+1)\n",
    "    plt.imshow(np.squeeze(frames[idx,:,:,0]), cmap=\"jet\")\n",
    "    plt.title(f\"Frame {idx}\")\n",
    "    plt.axis('off')\n",
    "    plt.colorbar()\n",
    "for idx, ax in enumerate(axes[1]):\n",
    "    plt.subplot(4,10,idx+11)\n",
    "    plt.imshow(np.squeeze(frames[idx,:,:,1]), cmap=\"jet\")\n",
    "    plt.title(f\"Frame {idx}\")\n",
    "    plt.axis('off')\n",
    "    plt.colorbar()\n",
    "for idx, ax in enumerate(axes[2]):\n",
    "    plt.subplot(4,10,idx+21)\n",
    "    plt.imshow(np.squeeze(frames[idx+10,:,:,0]), cmap=\"jet\")\n",
    "    plt.title(f\"Frame {idx+10}\")\n",
    "    plt.axis('off')\n",
    "    plt.colorbar()\n",
    "for idx, ax in enumerate(axes[3]):\n",
    "    plt.subplot(4,10,idx+31)\n",
    "    plt.imshow(np.squeeze(frames[idx+10,:,:,1]), cmap=\"jet\")\n",
    "    plt.title(f\"Frame {idx+10}\")\n",
    "    plt.axis('off')\n",
    "    plt.colorbar()"
   ]
  },
  {
   "cell_type": "code",
   "execution_count": 29,
   "metadata": {},
   "outputs": [
    {
     "data": {
      "image/png": "[encoded data removed]",
      "text/plain": [
       "<Figure size 1800x144 with 20 Axes>"
      ]
     },
     "metadata": {
      "needs_background": "light"
     },
     "output_type": "display_data"
    }
   ],
   "source": [
    "fig, axes = plt.subplots(2, 10, figsize=(25, 2))\n",
    "\n",
    "for idx, ax in enumerate(axes[0]):\n",
    "    plt.subplot(1,10,idx+1)\n",
    "    plt.imshow(np.squeeze(example[idx,:,:,0]), cmap=\"jet\")\n",
    "    plt.title(f\"Frame {idx}\")\n",
    "    plt.axis('off')\n",
    "    plt.colorbar()"
   ]
  },
  {
   "cell_type": "code",
   "execution_count": 30,
   "metadata": {},
   "outputs": [
    {
     "data": {
      "image/png": "[encoded data removed]",
      "text/plain": [
       "<Figure size 1800x144 with 20 Axes>"
      ]
     },
     "metadata": {
      "needs_background": "light"
     },
     "output_type": "display_data"
    }
   ],
   "source": [
    "fig, axes = plt.subplots(2, 10, figsize=(25, 2))\n",
    "\n",
    "for idx, ax in enumerate(axes[0]):\n",
    "    plt.subplot(1,10,idx+1)\n",
    "    plt.imshow(np.squeeze(example[idx+10,:,:,0]), cmap=\"jet\")\n",
    "    plt.title(f\"Frame {idx+10}\")\n",
    "    plt.axis('off')\n",
    "    plt.colorbar()"
   ]
  },
  {
   "cell_type": "code",
   "execution_count": 19,
   "metadata": {},
   "outputs": [
    {
     "data": {
      "text/plain": [
       "<matplotlib.image.AxesImage at 0x7fbf48276bb0>"
      ]
     },
     "execution_count": 19,
     "metadata": {},
     "output_type": "execute_result"
    },
    {
     "data": {
      "image/png": "[encoded data removed]",
      "text/plain": [
       "<Figure size 432x288 with 1 Axes>"
      ]
     },
     "metadata": {
      "needs_background": "light"
     },
     "output_type": "display_data"
    }
   ],
   "source": [
    "plt.imshow(np.squeeze(example[1,:,:,0]), cmap=\"jet\")\n"
   ]
  },
  {
   "cell_type": "markdown",
   "metadata": {
    "id": "toZ_ai4NAsiY",
    "pycharm": {
     "name": "#%% md\n"
    }
   },
   "source": [
    "## Predicted Videos\n",
    "\n",
    "Finally, we'll pick a few examples from the validation set\n",
    "and construct some GIFs with them to see the model's\n",
    "predicted videos.\n",
    "\n",
    "You can use the trained model hosted on [Hugging Face Hub](https://huggingface.co/keras-io/conv-lstm) and try the demo on [Hugging Face Spaces](https://huggingface.co/spaces/keras-io/conv-lstm)."
   ]
  },
  {
   "cell_type": "code",
   "execution_count": 20,
   "metadata": {},
   "outputs": [
    {
     "ename": "IndexError",
     "evalue": "index 20 is out of bounds for axis 0 with size 20",
     "output_type": "error",
     "traceback": [
      "\u001b[0;31m---------------------------------------------------------------------------\u001b[0m",
      "\u001b[0;31mIndexError\u001b[0m                                Traceback (most recent call last)",
      "\u001b[1;32m/home/kuanrenqian/Documents/Data_generation_for_conv2DLSTM/conv_lstm_2.ipynb Cell 29'\u001b[0m in \u001b[0;36m<cell line: 5>\u001b[0;34m()\u001b[0m\n\u001b[1;32m      <a href='vscode-notebook-cell:/home/kuanrenqian/Documents/Data_generation_for_conv2DLSTM/conv_lstm_2.ipynb#ch0000024?line=2'>3</a>\u001b[0m plt\u001b[39m.\u001b[39mtitle(\u001b[39m9\u001b[39m)\n\u001b[1;32m      <a href='vscode-notebook-cell:/home/kuanrenqian/Documents/Data_generation_for_conv2DLSTM/conv_lstm_2.ipynb#ch0000024?line=3'>4</a>\u001b[0m plt\u001b[39m.\u001b[39msubplot(\u001b[39m1\u001b[39m,\u001b[39m2\u001b[39m,\u001b[39m2\u001b[39m)\n\u001b[0;32m----> <a href='vscode-notebook-cell:/home/kuanrenqian/Documents/Data_generation_for_conv2DLSTM/conv_lstm_2.ipynb#ch0000024?line=4'>5</a>\u001b[0m plt\u001b[39m.\u001b[39mimshow(np\u001b[39m.\u001b[39msqueeze(frames[\u001b[39m20\u001b[39;49m,:,:,\u001b[39m0\u001b[39;49m]), cmap\u001b[39m=\u001b[39m\u001b[39m\"\u001b[39m\u001b[39mjet\u001b[39m\u001b[39m\"\u001b[39m)\n\u001b[1;32m      <a href='vscode-notebook-cell:/home/kuanrenqian/Documents/Data_generation_for_conv2DLSTM/conv_lstm_2.ipynb#ch0000024?line=5'>6</a>\u001b[0m plt\u001b[39m.\u001b[39mtitle(\u001b[39m21\u001b[39m)\n\u001b[1;32m      <a href='vscode-notebook-cell:/home/kuanrenqian/Documents/Data_generation_for_conv2DLSTM/conv_lstm_2.ipynb#ch0000024?line=6'>7</a>\u001b[0m plt\u001b[39m.\u001b[39mshow()\n",
      "\u001b[0;31mIndexError\u001b[0m: index 20 is out of bounds for axis 0 with size 20"
     ]
    },
    {
     "data": {
      "image/png": "[encoded data removed]",
      "text/plain": [
       "<Figure size 432x288 with 2 Axes>"
      ]
     },
     "metadata": {
      "needs_background": "light"
     },
     "output_type": "display_data"
    }
   ],
   "source": [
    "plt.subplot(1,2,1)\n",
    "plt.imshow(np.squeeze(frames[9,:,:,0]), cmap=\"jet\")\n",
    "plt.title(9)\n",
    "plt.subplot(1,2,2)\n",
    "plt.imshow(np.squeeze(frames[20,:,:,0]), cmap=\"jet\")\n",
    "plt.title(21)\n",
    "plt.show()\n"
   ]
  },
  {
   "cell_type": "code",
   "execution_count": null,
   "metadata": {
    "pycharm": {
     "name": "#%%\n"
    }
   },
   "outputs": [
    {
     "ename": "ValueError",
     "evalue": "Image must be 2D (grayscale, RGB, or RGBA).",
     "output_type": "error",
     "traceback": [
      "\u001b[0;31m---------------------------------------------------------------------------\u001b[0m",
      "\u001b[0;31mValueError\u001b[0m                                Traceback (most recent call last)",
      "\u001b[1;32m/home/kuanrenqian/Documents/Data_generation_for_conv2DLSTM/conv_lstm.ipynb Cell 26'\u001b[0m in \u001b[0;36m<cell line: 6>\u001b[0;34m()\u001b[0m\n\u001b[1;32m     <a href='vscode-notebook-cell:/home/kuanrenqian/Documents/Data_generation_for_conv2DLSTM/conv_lstm.ipynb#ch0000019?line=32'>33</a>\u001b[0m         \u001b[39m# Construct a GIF from the frames.\u001b[39;00m\n\u001b[1;32m     <a href='vscode-notebook-cell:/home/kuanrenqian/Documents/Data_generation_for_conv2DLSTM/conv_lstm.ipynb#ch0000019?line=33'>34</a>\u001b[0m         \u001b[39mwith\u001b[39;00m io\u001b[39m.\u001b[39mBytesIO() \u001b[39mas\u001b[39;00m gif:\n\u001b[0;32m---> <a href='vscode-notebook-cell:/home/kuanrenqian/Documents/Data_generation_for_conv2DLSTM/conv_lstm.ipynb#ch0000019?line=34'>35</a>\u001b[0m             imageio\u001b[39m.\u001b[39;49mmimsave(gif, current_frames, \u001b[39m\"\u001b[39;49m\u001b[39mGIF\u001b[39;49m\u001b[39m\"\u001b[39;49m, fps\u001b[39m=\u001b[39;49m\u001b[39m5\u001b[39;49m)\n\u001b[1;32m     <a href='vscode-notebook-cell:/home/kuanrenqian/Documents/Data_generation_for_conv2DLSTM/conv_lstm.ipynb#ch0000019?line=35'>36</a>\u001b[0m             predicted_videos\u001b[39m.\u001b[39mappend(gif\u001b[39m.\u001b[39mgetvalue())\n\u001b[1;32m     <a href='vscode-notebook-cell:/home/kuanrenqian/Documents/Data_generation_for_conv2DLSTM/conv_lstm.ipynb#ch0000019?line=37'>38</a>\u001b[0m \u001b[39m# Display the videos.\u001b[39;00m\n",
      "File \u001b[0;32m~/anaconda3/lib/python3.9/site-packages/imageio/core/functions.py:415\u001b[0m, in \u001b[0;36mmimwrite\u001b[0;34m(uri, ims, format, **kwargs)\u001b[0m\n\u001b[1;32m    <a href='file:///home/kuanrenqian/anaconda3/lib/python3.9/site-packages/imageio/core/functions.py?line=412'>413</a>\u001b[0m     \u001b[39mpass\u001b[39;00m\n\u001b[1;32m    <a href='file:///home/kuanrenqian/anaconda3/lib/python3.9/site-packages/imageio/core/functions.py?line=413'>414</a>\u001b[0m \u001b[39melse\u001b[39;00m:\n\u001b[0;32m--> <a href='file:///home/kuanrenqian/anaconda3/lib/python3.9/site-packages/imageio/core/functions.py?line=414'>415</a>\u001b[0m     \u001b[39mraise\u001b[39;00m \u001b[39mValueError\u001b[39;00m(\u001b[39m\"\u001b[39m\u001b[39mImage must be 2D \u001b[39m\u001b[39m\"\u001b[39m \u001b[39m\"\u001b[39m\u001b[39m(grayscale, RGB, or RGBA).\u001b[39m\u001b[39m\"\u001b[39m)\n\u001b[1;32m    <a href='file:///home/kuanrenqian/anaconda3/lib/python3.9/site-packages/imageio/core/functions.py?line=416'>417</a>\u001b[0m \u001b[39m# Add image\u001b[39;00m\n\u001b[1;32m    <a href='file:///home/kuanrenqian/anaconda3/lib/python3.9/site-packages/imageio/core/functions.py?line=417'>418</a>\u001b[0m writer\u001b[39m.\u001b[39mappend_data(im)\n",
      "\u001b[0;31mValueError\u001b[0m: Image must be 2D (grayscale, RGB, or RGBA)."
     ]
    }
   ],
   "source": [
    "# Select a few random examples from the dataset.\n",
    "examples = val_dataset[np.random.choice(range(len(val_dataset)), size=5)]\n",
    "\n",
    "# Iterate over the examples and predict the frames.\n",
    "predicted_videos = []\n",
    "for example in examples:\n",
    "    # Pick the first/last ten frames from the example.\n",
    "    frames = example[:10, ...]\n",
    "    original_frames = example[10:, ...]\n",
    "    new_predictions = np.zeros(shape=(10, *frames[0].shape))\n",
    "\n",
    "    # Predict a new set of 10 frames.\n",
    "    for i in range(10):\n",
    "        # Extract the model's prediction and post-process it.\n",
    "        frames = example[: 10 + i + 1, ...]\n",
    "        new_prediction = model.predict(np.expand_dims(frames, axis=0))\n",
    "        new_prediction = np.squeeze(new_prediction, axis=0)\n",
    "        predicted_frame = np.expand_dims(new_prediction[-1, ...], axis=0)\n",
    "\n",
    "        example[: 10 + i + 2, ...] = predicted_frame\n",
    "\n",
    "        # Extend the set of prediction frames.\n",
    "        new_predictions[i] = predicted_frame\n",
    "\n",
    "    # Create and save GIFs for each of the ground truth/prediction images.\n",
    "    for frame_set in [original_frames, new_predictions]:\n",
    "        # Construct a GIF from the selected video frames.\n",
    "        current_frames = np.squeeze(frame_set)\n",
    "        current_frames = current_frames[..., np.newaxis] * np.ones(3)\n",
    "        current_frames = (current_frames * 255).astype(np.uint8)\n",
    "        current_frames = list(current_frames)\n",
    "\n",
    "        # Construct a GIF from the frames.\n",
    "        with io.BytesIO() as gif:\n",
    "            imageio.mimsave(gif, current_frames, \"GIF\", fps=5)\n",
    "            predicted_videos.append(gif.getvalue())\n",
    "\n",
    "# Display the videos.\n",
    "print(\" Truth\\tPrediction\")\n",
    "for i in range(0, len(predicted_videos), 2):\n",
    "    # Construct and display an `HBox` with the ground truth and prediction.\n",
    "    box = HBox(\n",
    "        [\n",
    "            widgets.Image(value=predicted_videos[i]),\n",
    "            widgets.Image(value=predicted_videos[i + 1]),\n",
    "        ]\n",
    "    )\n",
    "    display(box)"
   ]
  },
  {
   "cell_type": "code",
   "execution_count": null,
   "metadata": {},
   "outputs": [],
   "source": []
  }
 ],
 "metadata": {
  "colab": {
   "collapsed_sections": [],
   "name": "conv_lstm",
   "provenance": [],
   "toc_visible": true
  },
  "interpreter": {
   "hash": "6dadb3cf9ac31612a9bdbf082b297d440e5f504eb438acd38af516c26e01dee6"
  },
  "kernelspec": {
   "display_name": "Python 3 (ipykernel)",
   "language": "python",
   "name": "python3"
  },
  "language_info": {
   "codemirror_mode": {
    "name": "ipython",
    "version": 3
   },
   "file_extension": ".py",
   "mimetype": "text/x-python",
   "name": "python",
   "nbconvert_exporter": "python",
   "pygments_lexer": "ipython3",
   "version": "3.9.12"
  }
 },
 "nbformat": 4,
 "nbformat_minor": 1
}
